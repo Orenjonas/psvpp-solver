{
 "cells": [
  {
   "cell_type": "code",
   "execution_count": 1,
   "id": "c63492a3-7e4e-486a-98f4-f194d8437a32",
   "metadata": {},
   "outputs": [],
   "source": [
    "import numpy as np"
   ]
  },
  {
   "cell_type": "code",
   "execution_count": null,
   "id": "00cb2489-c9f0-4a18-8d7b-5dc6f703fe3a",
   "metadata": {},
   "outputs": [],
   "source": []
  },
  {
   "cell_type": "markdown",
   "id": "a40dce4e-91a2-4b19-8cfa-9ac05f628a85",
   "metadata": {},
   "source": [
    "# Test utils"
   ]
  },
  {
   "cell_type": "code",
   "execution_count": 2,
   "id": "9f2496f4-5135-4e61-97e6-2334bc8d475c",
   "metadata": {},
   "outputs": [],
   "source": [
    "from utils import generate_departures_from_routes, generate_visits_from_routes\n"
   ]
  },
  {
   "cell_type": "code",
   "execution_count": 3,
   "id": "d8508a6a",
   "metadata": {},
   "outputs": [
    {
     "name": "stdout",
     "output_type": "stream",
     "text": [
      "routes:\n",
      " [[[1 2 0 0]\n",
      "  [0 0 0 0]\n",
      "  [4 3 2 0]\n",
      "  [0 0 0 0]]\n",
      "\n",
      " [[0 0 0 0]\n",
      "  [3 4 0 0]\n",
      "  [0 0 0 0]\n",
      "  [1 2 0 0]]]\n",
      "out:\n",
      "visits:\n",
      " [[ True False False  True]\n",
      " [ True False  True  True]\n",
      " [False  True  True False]\n",
      " [False  True  True False]]\n",
      "departures:\n",
      " [[ True False  True False]\n",
      " [False  True False  True]]\n"
     ]
    }
   ],
   "source": [
    "run test_utils.py"
   ]
  },
  {
   "cell_type": "code",
   "execution_count": 4,
   "id": "d0ed7266-2871-4351-894a-e1fd409efa2d",
   "metadata": {},
   "outputs": [
    {
     "data": {
      "text/plain": [
       "array([[[1, 2, 0, 0],\n",
       "        [0, 0, 0, 0],\n",
       "        [4, 3, 2, 0],\n",
       "        [0, 0, 0, 0]],\n",
       "\n",
       "       [[0, 0, 0, 0],\n",
       "        [3, 4, 0, 0],\n",
       "        [0, 0, 0, 0],\n",
       "        [1, 2, 0, 0]]])"
      ]
     },
     "execution_count": 4,
     "metadata": {},
     "output_type": "execute_result"
    }
   ],
   "source": [
    "routes"
   ]
  },
  {
   "cell_type": "code",
   "execution_count": 5,
   "id": "a46b4364-9976-4cc2-8096-80cbd4a2904c",
   "metadata": {},
   "outputs": [
    {
     "data": {
      "text/plain": [
       "array([[1, 0, 0, 1],\n",
       "       [1, 0, 1, 1],\n",
       "       [0, 1, 1, 0],\n",
       "       [0, 1, 1, 0]])"
      ]
     },
     "execution_count": 5,
     "metadata": {},
     "output_type": "execute_result"
    }
   ],
   "source": [
    "visits*1"
   ]
  },
  {
   "cell_type": "code",
   "execution_count": 6,
   "id": "38ca7b66-e9bf-4e54-9cc9-7e683cda8a14",
   "metadata": {},
   "outputs": [
    {
     "data": {
      "text/plain": [
       "array([[1, 0, 1, 0],\n",
       "       [0, 1, 0, 1]])"
      ]
     },
     "execution_count": 6,
     "metadata": {},
     "output_type": "execute_result"
    }
   ],
   "source": [
    "departures*1"
   ]
  },
  {
   "cell_type": "code",
   "execution_count": 7,
   "id": "40cabe07-cec1-40bc-85e8-80c08a57ff8a",
   "metadata": {},
   "outputs": [
    {
     "data": {
      "text/plain": [
       "True"
      ]
     },
     "execution_count": 7,
     "metadata": {},
     "output_type": "execute_result"
    }
   ],
   "source": [
    "np.array_equal(visits.sum(axis=1), np.array([2, 3, 2, 2]))"
   ]
  },
  {
   "cell_type": "markdown",
   "id": "62e54d60-311b-4eb2-b81b-54165377649a",
   "metadata": {},
   "source": [
    "# Port visualize routes"
   ]
  },
  {
   "cell_type": "code",
   "execution_count": 8,
   "id": "5bcf2995-4d26-4183-8998-b20bc81070f3",
   "metadata": {},
   "outputs": [
    {
     "data": {
      "text/plain": [
       "4"
      ]
     },
     "execution_count": 8,
     "metadata": {},
     "output_type": "execute_result"
    }
   ],
   "source": [
    "len(visits)"
   ]
  },
  {
   "cell_type": "markdown",
   "id": "2beeda62-c129-42e8-959c-e663bbe474e9",
   "metadata": {},
   "source": [
    "# Test constraints"
   ]
  },
  {
   "cell_type": "code",
   "execution_count": 9,
   "id": "d3484496-6a10-454a-9318-26656d24970b",
   "metadata": {},
   "outputs": [
    {
     "name": "stdout",
     "output_type": "stream",
     "text": [
      "Python 3.10.6 (main, Mar 10 2023, 10:55:28) [GCC 11.3.0]\n",
      "Type 'copyright', 'credits' or 'license' for more information\n",
      "IPython 8.13.1 -- An enhanced Interactive Python. Type '?' for help.\n",
      "\n"
     ]
    },
    {
     "name": "stdin",
     "output_type": "stream",
     "text": [
      "In [1]:  exit\n"
     ]
    },
    {
     "name": "stdout",
     "output_type": "stream",
     "text": [
      "\n"
     ]
    },
    {
     "data": {
      "image/png": "[encoded data removed]",
      "text/plain": [
       "<Figure size 640x480 with 8 Axes>"
      ]
     },
     "metadata": {},
     "output_type": "display_data"
    }
   ],
   "source": [
    "from utils import generate_departures_from_routes, generate_visits_from_routes\n",
    "import numpy as np\n",
    "\n",
    "routes = np.array([\n",
    "    [[1, 2, 0, 0],\n",
    "     [0, 0, 0, 0],\n",
    "     [4, 3, 2, 0],\n",
    "     [0, 0, 0, 0]],\n",
    "    [[0, 0, 0, 0],\n",
    "     [3, 4, 0, 0],\n",
    "     [0, 0, 0, 0],\n",
    "     [1, 2, 0, 0]]]\n",
    ")\n",
    "\n",
    "from visualize_route import visualize_route\n",
    "\n",
    "\n",
    "visualize_route(routes, visits=generate_visits_from_routes(routes, n_days_in_period=4, n_installations=4), n_days=4)"
   ]
  },
  {
   "cell_type": "code",
   "execution_count": 10,
   "id": "08889d21-41d2-4532-b812-7b2fffdf1021",
   "metadata": {},
   "outputs": [
    {
     "name": "stdout",
     "output_type": "stream",
     "text": [
      "day 0 prev -1\n",
      "Services not sufficiently spread for  installation 0\n",
      "routes\n",
      "[[[1 2 0 0]\n",
      "  [0 0 0 0]\n",
      "  [4 3 2 0]\n",
      "  [0 0 0 0]]\n",
      "\n",
      " [[0 0 0 0]\n",
      "  [3 4 0 0]\n",
      "  [0 0 0 0]\n",
      "  [1 2 0 0]]]\n",
      "visits\n",
      "[[1 0 0 1]\n",
      " [1 0 1 1]\n",
      " [0 1 1 0]\n",
      " [0 1 1 0]]\n",
      "departures\n",
      "[[1 0 1 0]\n",
      " [0 1 0 1]]\n"
     ]
    },
    {
     "data": {
      "text/plain": [
       "False"
      ]
     },
     "execution_count": 10,
     "metadata": {},
     "output_type": "execute_result"
    }
   ],
   "source": [
    "from constraints import check_constraints_satisfied\n",
    "\n",
    "\n",
    "check_constraints_satisfied(routes,\n",
    "                            visits,\n",
    "                            departures,\n",
    "                            required_frequencies=np.array([2, 3, 2, 2]),\n",
    "                            max_v_prepared=np.array([2, 2, 2, 1]),\n",
    "                            n_days_available=np.array([2, 2]),\n",
    "                            days_in_period=4,\n",
    "                            )\n"
   ]
  },
  {
   "cell_type": "code",
   "execution_count": 11,
   "id": "b5d2fbc9-5c61-4568-af98-0778be23ede8",
   "metadata": {},
   "outputs": [
    {
     "ename": "NameError",
     "evalue": "name 'services' is not defined",
     "output_type": "error",
     "traceback": [
      "\u001b[0;31m---------------------------------------------------------------------------\u001b[0m",
      "\u001b[0;31mNameError\u001b[0m                                 Traceback (most recent call last)",
      "Cell \u001b[0;32mIn[11], line 1\u001b[0m\n\u001b[0;32m----> 1\u001b[0m \u001b[43mservices\u001b[49m\n",
      "\u001b[0;31mNameError\u001b[0m: name 'services' is not defined"
     ]
    }
   ],
   "source": [
    "services"
   ]
  },
  {
   "cell_type": "markdown",
   "id": "d03656dd",
   "metadata": {},
   "source": [
    "# Init visits and departures"
   ]
  },
  {
   "cell_type": "code",
   "execution_count": null,
   "id": "7609a5c3",
   "metadata": {},
   "outputs": [],
   "source": [
    "departures = np.array([[True, False, True, False],\n",
    "          [False, True, False, True]])\n",
    "visits = np.array([[True, False, False, True],\n",
    "              [True, False, True, True],\n",
    "              [False, True, True, False],\n",
    "              [False, True, True, False]])\n"
   ]
  },
  {
   "cell_type": "code",
   "execution_count": null,
   "id": "2a0bd65c",
   "metadata": {},
   "outputs": [],
   "source": [
    "max_psv_prepared_per_day = np.array([2,2,0,1])"
   ]
  },
  {
   "cell_type": "code",
   "execution_count": null,
   "id": "94ee0241",
   "metadata": {},
   "outputs": [],
   "source": [
    "np.where(departures.sum(axis=0) > max_psv_prepared_per_day)[0]"
   ]
  },
  {
   "cell_type": "code",
   "execution_count": null,
   "id": "f8373e5a",
   "metadata": {},
   "outputs": [],
   "source": [
    "departures*1"
   ]
  },
  {
   "cell_type": "code",
   "execution_count": null,
   "id": "69a12941",
   "metadata": {},
   "outputs": [],
   "source": [
    "a = np.where(departures)"
   ]
  },
  {
   "cell_type": "code",
   "execution_count": null,
   "id": "aed0b6b2",
   "metadata": {},
   "outputs": [],
   "source": [
    "a"
   ]
  },
  {
   "cell_type": "code",
   "execution_count": null,
   "id": "a0dccca2",
   "metadata": {},
   "outputs": [],
   "source": [
    "a[1][1:] - a[1][:-1]"
   ]
  },
  {
   "cell_type": "code",
   "execution_count": null,
   "id": "ee03bfb5",
   "metadata": {},
   "outputs": [],
   "source": [
    "a[1][0:2]"
   ]
  },
  {
   "cell_type": "code",
   "execution_count": null,
   "id": "ec8c6938",
   "metadata": {},
   "outputs": [],
   "source": [
    "np.array(routes[:, :, 0] > 0, dtype=bool)"
   ]
  },
  {
   "cell_type": "code",
   "execution_count": null,
   "id": "33ab9c31",
   "metadata": {},
   "outputs": [],
   "source": [
    "visits = np.array([[1, 1, 1, 1],\n",
    "                   [1, 0, 0, 1],\n",
    "                   [1, 0, 1, 1],\n",
    "                   [0, 1, 1, 0]])"
   ]
  },
  {
   "cell_type": "code",
   "execution_count": null,
   "id": "cd4ef870",
   "metadata": {},
   "outputs": [],
   "source": []
  }
 ],
 "metadata": {
  "kernelspec": {
   "display_name": "Python 3 (ipykernel)",
   "language": "python",
   "name": "python3"
  },
  "language_info": {
   "codemirror_mode": {
    "name": "ipython",
    "version": 3
   },
   "file_extension": ".py",
   "mimetype": "text/x-python",
   "name": "python",
   "nbconvert_exporter": "python",
   "pygments_lexer": "ipython3",
   "version": "3.10.6"
  }
 },
 "nbformat": 4,
 "nbformat_minor": 5
}
