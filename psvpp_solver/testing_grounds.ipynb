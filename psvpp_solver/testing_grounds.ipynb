{
 "cells": [
  {
   "cell_type": "code",
   "execution_count": 1,
   "id": "c63492a3-7e4e-486a-98f4-f194d8437a32",
   "metadata": {},
   "outputs": [],
   "source": [
    "import numpy as np"
   ]
  },
  {
   "cell_type": "markdown",
   "id": "853b8076-5d66-4362-b0af-d75c6b79f8d2",
   "metadata": {},
   "source": [
    "# Test set"
   ]
  },
  {
   "cell_type": "code",
   "execution_count": 3,
   "id": "334fbf9b-4d1e-4897-8d36-410c0bf6fafc",
   "metadata": {},
   "outputs": [
    {
     "data": {
      "text/plain": [
       "array([[0, 0, 1, 1, 0, 0, 0],\n",
       "       [1, 0, 0, 1, 1, 0, 0],\n",
       "       [0, 0, 1, 0, 0, 1, 0],\n",
       "       [1, 1, 0, 0, 0, 0, 0]])"
      ]
     },
     "execution_count": 3,
     "metadata": {},
     "output_type": "execute_result"
    }
   ],
   "source": [
    "from utils import generate_visits\n",
    "\n",
    "visits =generate_visits(n_installations=4,\n",
    "                    n_days=7,\n",
    "                    days=np.arange(7),\n",
    "                    service_frequencies=np.array([2, 3, 2, 2, 2, 2], dtype=np.int8),\n",
    "                    )\n",
    "visits*1\n"
   ]
  },
  {
   "cell_type": "code",
   "execution_count": 15,
   "id": "86b36849-6f84-4961-97e6-f76793f703e8",
   "metadata": {},
   "outputs": [
    {
     "name": "stdout",
     "output_type": "stream",
     "text": [
      "[2 3]\n",
      "[0 3 4]\n",
      "[2 5]\n",
      "[0 1]\n"
     ]
    }
   ],
   "source": [
    "for i in visits:\n",
    "    print(np.where(i))"
   ]
  },
  {
   "cell_type": "code",
   "execution_count": 20,
   "id": "40b07b22-f763-4705-bdbf-a9a6ea81ae12",
   "metadata": {},
   "outputs": [],
   "source": [
    "a = set(np.where(visits)[1].flatten())"
   ]
  },
  {
   "cell_type": "code",
   "execution_count": 26,
   "id": "fe7f5406-bbd9-4b2b-96da-5dc9cb1a35f9",
   "metadata": {},
   "outputs": [],
   "source": [
    "a = np.unique(np.where(visits)[1].flatten())"
   ]
  },
  {
   "cell_type": "markdown",
   "id": "515ab0f4-dae4-48eb-9628-690dc2279a88",
   "metadata": {},
   "source": [
    "Does not delete inplace"
   ]
  },
  {
   "cell_type": "code",
   "execution_count": 34,
   "id": "458b5ce1-c475-41ed-9069-159310d56ead",
   "metadata": {},
   "outputs": [
    {
     "data": {
      "text/plain": [
       "array([5])"
      ]
     },
     "execution_count": 34,
     "metadata": {},
     "output_type": "execute_result"
    }
   ],
   "source": [
    "np.delete(a, np.s_[0:5])"
   ]
  },
  {
   "cell_type": "code",
   "execution_count": 40,
   "id": "7db5d113-c23c-4da4-bb38-9510d2a2ebff",
   "metadata": {},
   "outputs": [
    {
     "data": {
      "text/plain": [
       "array([0, 2, 3, 4, 5])"
      ]
     },
     "execution_count": 40,
     "metadata": {},
     "output_type": "execute_result"
    }
   ],
   "source": [
    "np.delete(a, a==1)"
   ]
  },
  {
   "cell_type": "code",
   "execution_count": 31,
   "id": "82fec240-8a24-4a6c-975b-6b367dd2b95a",
   "metadata": {},
   "outputs": [
    {
     "data": {
      "text/plain": [
       "array([0, 1, 2, 3, 4, 5])"
      ]
     },
     "execution_count": 31,
     "metadata": {},
     "output_type": "execute_result"
    }
   ],
   "source": [
    "a"
   ]
  },
  {
   "cell_type": "code",
   "execution_count": 37,
   "id": "8c6cf68e-c781-4399-b953-b98590498d09",
   "metadata": {},
   "outputs": [
    {
     "ename": "TypeError",
     "evalue": "bad operand type for unary ~: 'slice'",
     "output_type": "error",
     "traceback": [
      "\u001b[0;31m---------------------------------------------------------------------------\u001b[0m",
      "\u001b[0;31mTypeError\u001b[0m                                 Traceback (most recent call last)",
      "Cell \u001b[0;32mIn[37], line 1\u001b[0m\n\u001b[0;32m----> 1\u001b[0m \u001b[38;5;241;43m~\u001b[39;49m\u001b[43mnp\u001b[49m\u001b[38;5;241;43m.\u001b[39;49m\u001b[43ms_\u001b[49m\u001b[43m[\u001b[49m\u001b[38;5;241;43m0\u001b[39;49m\u001b[43m:\u001b[49m\u001b[38;5;241;43m5\u001b[39;49m\u001b[43m]\u001b[49m\n",
      "\u001b[0;31mTypeError\u001b[0m: bad operand type for unary ~: 'slice'"
     ]
    }
   ],
   "source": [
    "np.s_[0:5]"
   ]
  },
  {
   "cell_type": "code",
   "execution_count": 41,
   "id": "9997d856-df92-41b3-bcfb-a31f0bc074d5",
   "metadata": {},
   "outputs": [],
   "source": [
    "    rng = np.random.default_rng()\n"
   ]
  },
  {
   "cell_type": "code",
   "execution_count": 47,
   "id": "bfd707d3-96a0-4612-912a-a880c558e2d5",
   "metadata": {},
   "outputs": [
    {
     "data": {
      "text/plain": [
       "3"
      ]
     },
     "execution_count": 47,
     "metadata": {},
     "output_type": "execute_result"
    }
   ],
   "source": [
    "import random\n",
    "random.randint(0, 5)"
   ]
  },
  {
   "cell_type": "code",
   "execution_count": 50,
   "id": "57a29e08-7f79-4a4e-ba10-4ae921c9bcd5",
   "metadata": {},
   "outputs": [
    {
     "data": {
      "text/plain": [
       "array([[0, 0, 1, 1, 0, 0, 0],\n",
       "       [1, 0, 0, 1, 1, 0, 0],\n",
       "       [0, 0, 1, 0, 0, 1, 0],\n",
       "       [1, 1, 0, 0, 0, 0, 0]])"
      ]
     },
     "execution_count": 50,
     "metadata": {},
     "output_type": "execute_result"
    }
   ],
   "source": [
    "visits*1"
   ]
  },
  {
   "cell_type": "code",
   "execution_count": 55,
   "id": "08e80304-2b35-436c-83e5-5539484fe4fd",
   "metadata": {},
   "outputs": [
    {
     "data": {
      "text/plain": [
       "array([ True,  True,  True,  True,  True,  True, False])"
      ]
     },
     "execution_count": 55,
     "metadata": {},
     "output_type": "execute_result"
    }
   ],
   "source": [
    "visit_days = visits.any(axis=0)\n",
    "visit_days"
   ]
  },
  {
   "cell_type": "code",
   "execution_count": 72,
   "id": "ae8b1ece-6918-40c4-9f0b-f41f37c0e269",
   "metadata": {},
   "outputs": [
    {
     "data": {
      "text/plain": [
       "6"
      ]
     },
     "execution_count": 72,
     "metadata": {},
     "output_type": "execute_result"
    }
   ],
   "source": [
    "visit_days.sum()"
   ]
  },
  {
   "cell_type": "code",
   "execution_count": null,
   "id": "4a1b746f-6acd-458b-aacd-4a9ad08f4ffe",
   "metadata": {},
   "outputs": [],
   "source": []
  },
  {
   "cell_type": "code",
   "execution_count": 87,
   "id": "9547b204-2e5f-4ec7-b6bb-fc1ec83723ad",
   "metadata": {},
   "outputs": [
    {
     "data": {
      "text/plain": [
       "array([0, 1, 2, 3, 4, 5])"
      ]
     },
     "execution_count": 87,
     "metadata": {},
     "output_type": "execute_result"
    }
   ],
   "source": [
    "visit_days = np.where(visit_days)[0]\n",
    "visit_days"
   ]
  },
  {
   "cell_type": "code",
   "execution_count": 100,
   "id": "40011ad1-629b-4e2b-a903-f0687b27e95f",
   "metadata": {},
   "outputs": [
    {
     "data": {
      "text/plain": [
       "array([1, 2, 2, 1, 2, 0])"
      ]
     },
     "execution_count": 100,
     "metadata": {},
     "output_type": "execute_result"
    }
   ],
   "source": [
    "assignment = rng.choice(np.arange(3), size=len(visit_days))\n",
    "assignment"
   ]
  },
  {
   "cell_type": "markdown",
   "id": "2974a947-60dc-4ef0-9d9a-6789fee0adc5",
   "metadata": {},
   "source": [
    "## TODO: Unit test:"
   ]
  },
  {
   "cell_type": "code",
   "execution_count": 101,
   "id": "79da6794-736c-4e7d-909c-99af2456cef8",
   "metadata": {},
   "outputs": [
    {
     "data": {
      "text/plain": [
       "True"
      ]
     },
     "execution_count": 101,
     "metadata": {},
     "output_type": "execute_result"
    }
   ],
   "source": [
    "# Check all vessels selected\n",
    "np.array_equal(np.unique(assignment), np.arange(3))"
   ]
  },
  {
   "cell_type": "code",
   "execution_count": null,
   "id": "df2c123f-dfc2-40ae-83af-2b8a65440771",
   "metadata": {},
   "outputs": [],
   "source": [
    "# Check departure pattern feasible\n"
   ]
  },
  {
   "cell_type": "code",
   "execution_count": null,
   "id": "24a4a6d8-e9ae-43c9-82f7-4b63ec6337c7",
   "metadata": {},
   "outputs": [],
   "source": [
    "# Check that max vessels prepared at installation constraint is satisfied"
   ]
  },
  {
   "cell_type": "code",
   "execution_count": 82,
   "id": "3fb9f826-05f7-450f-b6b6-59f33d150ec1",
   "metadata": {},
   "outputs": [
    {
     "data": {
      "text/plain": [
       "array([0, 1, 2])"
      ]
     },
     "execution_count": 82,
     "metadata": {},
     "output_type": "execute_result"
    }
   ],
   "source": [
    "np.arange(3)"
   ]
  },
  {
   "cell_type": "code",
   "execution_count": 70,
   "id": "09b2c979-352b-4ba4-9773-866a44ef9ae6",
   "metadata": {},
   "outputs": [
    {
     "data": {
      "text/plain": [
       "array([2, 3, 6])"
      ]
     },
     "execution_count": 70,
     "metadata": {},
     "output_type": "execute_result"
    }
   ],
   "source": [
    "idx = rng.choice(np.arange(len(visit_days)), replace=False, size = 3)\n",
    "\n",
    "idx"
   ]
  },
  {
   "cell_type": "code",
   "execution_count": 71,
   "id": "6fe477ee-883d-4e73-a5b1-dddd62607729",
   "metadata": {},
   "outputs": [
    {
     "data": {
      "text/plain": [
       "array([ True,  True, False])"
      ]
     },
     "execution_count": 71,
     "metadata": {},
     "output_type": "execute_result"
    }
   ],
   "source": [
    "visit_days[idx]"
   ]
  },
  {
   "cell_type": "code",
   "execution_count": null,
   "id": "e73f22ec-5fcb-4a3d-84fc-a11033926f15",
   "metadata": {},
   "outputs": [],
   "source": []
  },
  {
   "cell_type": "code",
   "execution_count": 18,
   "id": "d0a0c5ae-26f2-47df-808e-f7e840074e23",
   "metadata": {},
   "outputs": [
    {
     "data": {
      "text/plain": [
       "0"
      ]
     },
     "execution_count": 18,
     "metadata": {},
     "output_type": "execute_result"
    }
   ],
   "source": [
    "while len(a) != 0:\n",
    "    a.pop()\n",
    "    \n"
   ]
  },
  {
   "cell_type": "code",
   "execution_count": 19,
   "id": "411ab48e-1856-471d-a835-169ad3770d88",
   "metadata": {},
   "outputs": [
    {
     "data": {
      "text/plain": [
       "{1, 2, 3, 4, 5}"
      ]
     },
     "execution_count": 19,
     "metadata": {},
     "output_type": "execute_result"
    }
   ],
   "source": [
    "a"
   ]
  },
  {
   "cell_type": "code",
   "execution_count": null,
   "id": "93fcef28-872d-4ae8-b559-6343996ec55f",
   "metadata": {},
   "outputs": [],
   "source": []
  },
  {
   "cell_type": "code",
   "execution_count": 6,
   "id": "0570283e-0c4e-47f5-b43e-943616cb59bb",
   "metadata": {},
   "outputs": [
    {
     "data": {
      "text/plain": [
       "{1, 2, 5}"
      ]
     },
     "execution_count": 6,
     "metadata": {},
     "output_type": "execute_result"
    }
   ],
   "source": [
    "set([1,2,1,5])"
   ]
  },
  {
   "cell_type": "markdown",
   "id": "05c42a7a-030f-4055-ab2e-65b941508532",
   "metadata": {},
   "source": [
    "# Test random sampling"
   ]
  },
  {
   "cell_type": "code",
   "execution_count": 5,
   "id": "e58a6097-e223-4355-a894-1c24f8d88161",
   "metadata": {},
   "outputs": [],
   "source": [
    "rng = np.random.default_rng(12345)\n",
    "\n",
    "rints = rng.integers(low=0, high=10, size=3)"
   ]
  },
  {
   "cell_type": "code",
   "execution_count": 6,
   "id": "0157a961-09f6-40c9-8750-f1af4cc2e651",
   "metadata": {},
   "outputs": [
    {
     "data": {
      "text/plain": [
       "array([6, 2, 7])"
      ]
     },
     "execution_count": 6,
     "metadata": {},
     "output_type": "execute_result"
    }
   ],
   "source": [
    "rints"
   ]
  },
  {
   "cell_type": "code",
   "execution_count": 51,
   "id": "e60e2d59-92fa-4ffe-b3ce-12d82a339adb",
   "metadata": {},
   "outputs": [],
   "source": [
    "days = [0,1,2,3]"
   ]
  },
  {
   "cell_type": "code",
   "execution_count": 26,
   "id": "0054a336-08d2-40d3-b491-a7bfb5b42b99",
   "metadata": {},
   "outputs": [
    {
     "data": {
      "text/plain": [
       "array([[1, 2, 4, 2],\n",
       "       [3, 2, 4, 2],\n",
       "       [3, 1, 3, 2],\n",
       "       [3, 1, 3, 4],\n",
       "       [2, 1, 1, 4]])"
      ]
     },
     "execution_count": 26,
     "metadata": {},
     "output_type": "execute_result"
    }
   ],
   "source": [
    "a = rng.choice(days, [5,4])\n",
    "\n",
    "a"
   ]
  },
  {
   "cell_type": "code",
   "execution_count": 52,
   "id": "c4294593-c40f-4625-ac32-96eaa85dd317",
   "metadata": {},
   "outputs": [],
   "source": [
    "a = np.zeros((4,4), dtype=bool)"
   ]
  },
  {
   "cell_type": "code",
   "execution_count": 53,
   "id": "ebf06b96-3511-4cff-a5fd-490cec541d95",
   "metadata": {},
   "outputs": [
    {
     "data": {
      "text/plain": [
       "array([[False, False, False, False],\n",
       "       [False, False, False, False],\n",
       "       [False, False, False, False],\n",
       "       [False, False, False, False]])"
      ]
     },
     "execution_count": 53,
     "metadata": {},
     "output_type": "execute_result"
    }
   ],
   "source": [
    "a"
   ]
  },
  {
   "cell_type": "code",
   "execution_count": 55,
   "id": "09217bc2-cd91-4eee-babe-8fbe5757e555",
   "metadata": {},
   "outputs": [],
   "source": [
    "from utils import generate_visits"
   ]
  },
  {
   "cell_type": "code",
   "execution_count": 71,
   "id": "1c2f5f98-cbe5-44d5-9a05-118b8afabaf5",
   "metadata": {},
   "outputs": [
    {
     "data": {
      "text/plain": [
       "array([[False, False, False,  True, False, False, False],\n",
       "       [False,  True,  True, False, False, False,  True],\n",
       "       [ True, False, False,  True,  True,  True,  True]])"
      ]
     },
     "execution_count": 71,
     "metadata": {},
     "output_type": "execute_result"
    }
   ],
   "source": [
    "generate_visits(n_installations=3,\n",
    "                n_days=7,\n",
    "                days=np.arange(7),\n",
    "                service_frequencies=np.array([1,3,5,3,3,2,2], dtype=np.int8))"
   ]
  },
  {
   "cell_type": "code",
   "execution_count": 54,
   "id": "f8f020a0-9f79-40c7-8926-b0c46ab8391b",
   "metadata": {},
   "outputs": [
    {
     "name": "stdout",
     "output_type": "stream",
     "text": [
      "[1 0]\n",
      "[1 2]\n",
      "[0 2 1]\n",
      "[2 0]\n",
      "[[ True  True False False]\n",
      " [False  True  True False]\n",
      " [ True  True  True False]\n",
      " [ True False  True False]]\n"
     ]
    }
   ],
   "source": [
    "n_installations = 4\n",
    "service_frequencies = np.array([2,2,3,2], dtype=np.int8)\n",
    "\n",
    "for i in range(n_installations):\n",
    "    index = rng.choice(days, replace=False, size=service_frequencies[i])\n",
    "    print(index)\n",
    "    a[i, index] = True\n",
    "print(a) "
   ]
  },
  {
   "cell_type": "code",
   "execution_count": null,
   "id": "a26a83f1-3471-4ac3-a833-548726665cf1",
   "metadata": {},
   "outputs": [],
   "source": []
  },
  {
   "cell_type": "code",
   "execution_count": 19,
   "id": "40aea849-abdf-4118-9ca2-473fc6a7be8f",
   "metadata": {},
   "outputs": [
    {
     "data": {
      "text/plain": [
       "array([0, 0, 2, 3, 3])"
      ]
     },
     "execution_count": 19,
     "metadata": {},
     "output_type": "execute_result"
    }
   ],
   "source": [
    "days_to_delete = rng.integers(low=0, high=4, size=5)\n",
    "days_to_delete"
   ]
  },
  {
   "cell_type": "code",
   "execution_count": 35,
   "id": "b92475a7-57a5-45f4-a92e-50711e0ca2e5",
   "metadata": {},
   "outputs": [
    {
     "data": {
      "text/plain": [
       "array([4, 3])"
      ]
     },
     "execution_count": 35,
     "metadata": {},
     "output_type": "execute_result"
    }
   ],
   "source": [
    "a[(0,2), (2,2)]"
   ]
  },
  {
   "cell_type": "code",
   "execution_count": 38,
   "id": "fd26f915-4439-4c1d-abc2-4f51fbd0387a",
   "metadata": {},
   "outputs": [
    {
     "data": {
      "text/plain": [
       "array([2, 4])"
      ]
     },
     "execution_count": 38,
     "metadata": {},
     "output_type": "execute_result"
    }
   ],
   "source": [
    "a[(0,-1), (1,-1)]"
   ]
  },
  {
   "cell_type": "markdown",
   "id": "a40dce4e-91a2-4b19-8cfa-9ac05f628a85",
   "metadata": {},
   "source": [
    "# Test utils"
   ]
  },
  {
   "cell_type": "code",
   "execution_count": 2,
   "id": "9f2496f4-5135-4e61-97e6-2334bc8d475c",
   "metadata": {},
   "outputs": [],
   "source": [
    "from utils import generate_departures_from_routes, generate_visits_from_routes\n"
   ]
  },
  {
   "cell_type": "code",
   "execution_count": 3,
   "id": "d8508a6a",
   "metadata": {},
   "outputs": [
    {
     "name": "stdout",
     "output_type": "stream",
     "text": [
      "routes:\n",
      " [[[1 2 0 0]\n",
      "  [0 0 0 0]\n",
      "  [4 3 2 0]\n",
      "  [0 0 0 0]]\n",
      "\n",
      " [[0 0 0 0]\n",
      "  [3 4 0 0]\n",
      "  [0 0 0 0]\n",
      "  [1 2 0 0]]]\n",
      "out:\n",
      "visits:\n",
      " [[ True False False  True]\n",
      " [ True False  True  True]\n",
      " [False  True  True False]\n",
      " [False  True  True False]]\n",
      "departures:\n",
      " [[ True False  True False]\n",
      " [False  True False  True]]\n"
     ]
    }
   ],
   "source": [
    "run test_utils.py"
   ]
  },
  {
   "cell_type": "code",
   "execution_count": 4,
   "id": "d0ed7266-2871-4351-894a-e1fd409efa2d",
   "metadata": {},
   "outputs": [
    {
     "data": {
      "text/plain": [
       "array([[[1, 2, 0, 0],\n",
       "        [0, 0, 0, 0],\n",
       "        [4, 3, 2, 0],\n",
       "        [0, 0, 0, 0]],\n",
       "\n",
       "       [[0, 0, 0, 0],\n",
       "        [3, 4, 0, 0],\n",
       "        [0, 0, 0, 0],\n",
       "        [1, 2, 0, 0]]])"
      ]
     },
     "execution_count": 4,
     "metadata": {},
     "output_type": "execute_result"
    }
   ],
   "source": [
    "routes"
   ]
  },
  {
   "cell_type": "code",
   "execution_count": 5,
   "id": "a46b4364-9976-4cc2-8096-80cbd4a2904c",
   "metadata": {},
   "outputs": [
    {
     "data": {
      "text/plain": [
       "array([[1, 0, 0, 1],\n",
       "       [1, 0, 1, 1],\n",
       "       [0, 1, 1, 0],\n",
       "       [0, 1, 1, 0]])"
      ]
     },
     "execution_count": 5,
     "metadata": {},
     "output_type": "execute_result"
    }
   ],
   "source": [
    "visits*1"
   ]
  },
  {
   "cell_type": "code",
   "execution_count": 6,
   "id": "38ca7b66-e9bf-4e54-9cc9-7e683cda8a14",
   "metadata": {},
   "outputs": [
    {
     "data": {
      "text/plain": [
       "array([[1, 0, 1, 0],\n",
       "       [0, 1, 0, 1]])"
      ]
     },
     "execution_count": 6,
     "metadata": {},
     "output_type": "execute_result"
    }
   ],
   "source": [
    "departures*1"
   ]
  },
  {
   "cell_type": "code",
   "execution_count": 7,
   "id": "40cabe07-cec1-40bc-85e8-80c08a57ff8a",
   "metadata": {},
   "outputs": [
    {
     "data": {
      "text/plain": [
       "True"
      ]
     },
     "execution_count": 7,
     "metadata": {},
     "output_type": "execute_result"
    }
   ],
   "source": [
    "np.array_equal(visits.sum(axis=1), np.array([2, 3, 2, 2]))"
   ]
  },
  {
   "cell_type": "markdown",
   "id": "62e54d60-311b-4eb2-b81b-54165377649a",
   "metadata": {},
   "source": [
    "# Port visualize routes"
   ]
  },
  {
   "cell_type": "code",
   "execution_count": 8,
   "id": "5bcf2995-4d26-4183-8998-b20bc81070f3",
   "metadata": {},
   "outputs": [
    {
     "data": {
      "text/plain": [
       "4"
      ]
     },
     "execution_count": 8,
     "metadata": {},
     "output_type": "execute_result"
    }
   ],
   "source": [
    "len(visits)"
   ]
  },
  {
   "cell_type": "markdown",
   "id": "2beeda62-c129-42e8-959c-e663bbe474e9",
   "metadata": {},
   "source": [
    "# Test constraints"
   ]
  },
  {
   "cell_type": "code",
   "execution_count": 9,
   "id": "12c59665-a971-44a2-84aa-085f1e48122a",
   "metadata": {},
   "outputs": [
    {
     "data": {
      "text/plain": [
       "2.3333333333333335"
      ]
     },
     "execution_count": 9,
     "metadata": {},
     "output_type": "execute_result"
    }
   ],
   "source": [
    "7/3"
   ]
  },
  {
   "cell_type": "code",
   "execution_count": 10,
   "id": "14ccb926-d656-466e-9e65-28f3ec131871",
   "metadata": {},
   "outputs": [
    {
     "data": {
      "text/plain": [
       "2.0"
      ]
     },
     "execution_count": 10,
     "metadata": {},
     "output_type": "execute_result"
    }
   ],
   "source": [
    "6/3"
   ]
  },
  {
   "cell_type": "code",
   "execution_count": 16,
   "id": "98c751ca-b8d6-4e53-9a92-2f8b399373e3",
   "metadata": {},
   "outputs": [
    {
     "data": {
      "text/plain": [
       "1.75"
      ]
     },
     "execution_count": 16,
     "metadata": {},
     "output_type": "execute_result"
    }
   ],
   "source": [
    "7/4"
   ]
  },
  {
   "cell_type": "code",
   "execution_count": 18,
   "id": "3dd3e87d-a0cf-497d-9d55-22cfd890d1e4",
   "metadata": {},
   "outputs": [
    {
     "data": {
      "text/plain": [
       "1.75"
      ]
     },
     "execution_count": 18,
     "metadata": {},
     "output_type": "execute_result"
    }
   ],
   "source": [
    "7/4"
   ]
  },
  {
   "cell_type": "code",
   "execution_count": 21,
   "id": "9961448e-3ad5-49dc-a975-7be1e6dec337",
   "metadata": {},
   "outputs": [
    {
     "data": {
      "text/plain": [
       "1.3333333333333335"
      ]
     },
     "execution_count": 21,
     "metadata": {},
     "output_type": "execute_result"
    }
   ],
   "source": [
    "7/3-1"
   ]
  },
  {
   "cell_type": "code",
   "execution_count": 23,
   "id": "6559ec68-f6e3-4c64-98a2-e21506a5ceef",
   "metadata": {},
   "outputs": [
    {
     "data": {
      "text/plain": [
       "1"
      ]
     },
     "execution_count": 23,
     "metadata": {},
     "output_type": "execute_result"
    }
   ],
   "source": [
    "7//3 -1"
   ]
  },
  {
   "cell_type": "code",
   "execution_count": 24,
   "id": "9a9e2eed-133f-44d4-82b6-0306f5bc16c7",
   "metadata": {},
   "outputs": [
    {
     "data": {
      "text/plain": [
       "1"
      ]
     },
     "execution_count": 24,
     "metadata": {},
     "output_type": "execute_result"
    }
   ],
   "source": [
    "4//3"
   ]
  },
  {
   "cell_type": "code",
   "execution_count": 31,
   "id": "10186c23-63d6-4f40-a6a9-d66f3aec726c",
   "metadata": {},
   "outputs": [
    {
     "ename": "AssertionError",
     "evalue": "heihaa",
     "output_type": "error",
     "traceback": [
      "\u001b[0;31m---------------------------------------------------------------------------\u001b[0m",
      "\u001b[0;31mAssertionError\u001b[0m                            Traceback (most recent call last)",
      "Cell \u001b[0;32mIn[31], line 1\u001b[0m\n\u001b[0;32m----> 1\u001b[0m \u001b[38;5;28;01massert\u001b[39;00m \u001b[38;5;28;01mFalse\u001b[39;00m, \u001b[38;5;124m\"\u001b[39m\u001b[38;5;124mhei\u001b[39m\u001b[38;5;124m\"\u001b[39m \\\n\u001b[1;32m      2\u001b[0m \u001b[38;5;124m\"\u001b[39m\u001b[38;5;124mhaa\u001b[39m\u001b[38;5;124m\"\u001b[39m\n",
      "\u001b[0;31mAssertionError\u001b[0m: heihaa"
     ]
    }
   ],
   "source": [
    "assert False, \"hei\" \\\n",
    "\"haa\""
   ]
  },
  {
   "cell_type": "code",
   "execution_count": 7,
   "id": "08889d21-41d2-4532-b812-7b2fffdf1021",
   "metadata": {},
   "outputs": [
    {
     "name": "stdout",
     "output_type": "stream",
     "text": [
      "day 1 prev 0\n",
      "Services not sufficiently spread for  installation 0\n",
      "routes\n",
      "[[[1 2 0 0]\n",
      "  [0 0 0 0]\n",
      "  [4 3 2 0]\n",
      "  [0 0 0 0]]\n",
      "\n",
      " [[0 0 0 0]\n",
      "  [3 4 1 0]\n",
      "  [0 0 0 0]\n",
      "  [2 0 0 0]]]\n",
      "visits\n",
      "[[1 1 0 0]\n",
      " [1 0 1 1]\n",
      " [0 1 1 0]\n",
      " [0 1 1 0]]\n",
      "departures\n",
      "[[1 0 1 0]\n",
      " [0 1 0 1]]\n"
     ]
    },
    {
     "data": {
      "image/png": "[encoded data removed]",
      "text/plain": [
       "<Figure size 640x480 with 8 Axes>"
      ]
     },
     "metadata": {},
     "output_type": "display_data"
    }
   ],
   "source": [
    "from utils import generate_departures_from_routes, generate_visits_from_routes\n",
    "from constraints import check_constraints_satisfied\n",
    "import numpy as np\n",
    "\n",
    "routes = np.array([[[1, 2, 0, 0],\n",
    "        [0, 0, 0, 0],\n",
    "        [4, 3, 2, 0],\n",
    "        [0, 0, 0, 0]],\n",
    "\n",
    "       [[0, 0, 0, 0],\n",
    "        [3, 4, 1, 0],\n",
    "        [0, 0, 0, 0],\n",
    "        [2, 0, 0, 0]]])\n",
    "visits = genera\n",
    "ate_visits_from_routes(routes, n_installations=4, n_days_in_period=4)\n",
    "departures = generate_departures_from_routes(routes)\n",
    "check_constraints_satisfied(routes,\n",
    "                            visits,\n",
    "                            departures,\n",
    "                            required_frequencies=np.array([2, 3, 2, 2]),\n",
    "                            max_v_prepared=np.array([2, 2, 2, 1]),\n",
    "                            n_days_available=np.array([2, 2]),\n",
    "                            days_in_period=4,\n",
    "                            )\n",
    "from visualize_route import visualize_route\n",
    "visualize_route(routes, visits, n_days=4)"
   ]
  },
  {
   "cell_type": "markdown",
   "id": "d03656dd",
   "metadata": {},
   "source": [
    "# Init visits and departures"
   ]
  },
  {
   "cell_type": "code",
   "execution_count": null,
   "id": "7609a5c3",
   "metadata": {},
   "outputs": [],
   "source": [
    "departures = np.array([[True, False, True, False],\n",
    "          [False, True, False, True]])\n",
    "visits = np.array([[True, False, False, True],\n",
    "              [True, False, True, True],\n",
    "              [False, True, True, False],\n",
    "              [False, True, True, False]])\n"
   ]
  },
  {
   "cell_type": "code",
   "execution_count": null,
   "id": "2a0bd65c",
   "metadata": {},
   "outputs": [],
   "source": [
    "max_psv_prepared_per_day = np.array([2,2,0,1])"
   ]
  },
  {
   "cell_type": "code",
   "execution_count": null,
   "id": "94ee0241",
   "metadata": {},
   "outputs": [],
   "source": [
    "np.where(departures.sum(axis=0) > max_psv_prepared_per_day)[0]"
   ]
  },
  {
   "cell_type": "code",
   "execution_count": null,
   "id": "f8373e5a",
   "metadata": {},
   "outputs": [],
   "source": [
    "departures*1"
   ]
  },
  {
   "cell_type": "code",
   "execution_count": null,
   "id": "69a12941",
   "metadata": {},
   "outputs": [],
   "source": [
    "a = np.where(departures)"
   ]
  },
  {
   "cell_type": "code",
   "execution_count": null,
   "id": "aed0b6b2",
   "metadata": {},
   "outputs": [],
   "source": [
    "a"
   ]
  },
  {
   "cell_type": "code",
   "execution_count": null,
   "id": "a0dccca2",
   "metadata": {},
   "outputs": [],
   "source": [
    "a[1][1:] - a[1][:-1]"
   ]
  },
  {
   "cell_type": "code",
   "execution_count": null,
   "id": "ee03bfb5",
   "metadata": {},
   "outputs": [],
   "source": [
    "a[1][0:2]"
   ]
  },
  {
   "cell_type": "code",
   "execution_count": null,
   "id": "ec8c6938",
   "metadata": {},
   "outputs": [],
   "source": [
    "np.array(routes[:, :, 0] > 0, dtype=bool)"
   ]
  },
  {
   "cell_type": "code",
   "execution_count": null,
   "id": "33ab9c31",
   "metadata": {},
   "outputs": [],
   "source": [
    "visits = np.array([[1, 1, 1, 1],\n",
    "                   [1, 0, 0, 1],\n",
    "                   [1, 0, 1, 1],\n",
    "                   [0, 1, 1, 0]])"
   ]
  },
  {
   "cell_type": "code",
   "execution_count": null,
   "id": "cd4ef870",
   "metadata": {},
   "outputs": [],
   "source": []
  }
 ],
 "metadata": {
  "kernelspec": {
   "display_name": "Python 3 (ipykernel)",
   "language": "python",
   "name": "python3"
  },
  "language_info": {
   "codemirror_mode": {
    "name": "ipython",
    "version": 3
   },
   "file_extension": ".py",
   "mimetype": "text/x-python",
   "name": "python",
   "nbconvert_exporter": "python",
   "pygments_lexer": "ipython3",
   "version": "3.10.6"
  }
 },
 "nbformat": 4,
 "nbformat_minor": 5
}
