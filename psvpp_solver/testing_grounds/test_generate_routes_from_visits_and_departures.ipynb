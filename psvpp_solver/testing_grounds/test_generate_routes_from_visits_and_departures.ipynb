{
 "cells": [
  {
   "cell_type": "code",
   "execution_count": 5,
   "id": "801c7682-7be5-4a72-8ce5-c67636575f30",
   "metadata": {},
   "outputs": [],
   "source": [
    "import numpy as np\n",
    "from psvpp_solver.utils import generate_routes_from_visits_and_departures\n",
    "from psvpp_solver.utils import generate_visits, generate_departures_from_visits, generate_departures_from_routes, generate_visits_from_routes"
   ]
  },
  {
   "cell_type": "code",
   "execution_count": 6,
   "id": "1f3e6031-18fa-41ff-970d-d3477b5a1e9d",
   "metadata": {},
   "outputs": [],
   "source": [
    "n_days_in_period=7"
   ]
  },
  {
   "cell_type": "code",
   "execution_count": 2,
   "id": "022f3c48-ccb9-4bc8-8879-e5284d783510",
   "metadata": {},
   "outputs": [
    {
     "data": {
      "text/plain": [
       "array([[0, 0, 1, 0, 0, 1, 0],\n",
       "       [0, 0, 1, 0, 1, 0, 1],\n",
       "       [0, 1, 0, 0, 0, 1, 0],\n",
       "       [0, 0, 0, 1, 0, 0, 1]])"
      ]
     },
     "execution_count": 2,
     "metadata": {},
     "output_type": "execute_result"
    }
   ],
   "source": [
    "visits = generate_visits(n_installations = 4,\n",
    "                    n_days_in_period=n_days_in_period,\n",
    "                    required_services=np.array([2, 3, 2, 2], dtype=np.int8),\n",
    "                    max_vessels_prepared=2)\n",
    "visits*1"
   ]
  },
  {
   "cell_type": "code",
   "execution_count": 3,
   "id": "4dbe310a-e059-4a4c-a86d-1d818945f075",
   "metadata": {},
   "outputs": [
    {
     "data": {
      "text/plain": [
       "array([[0, 1, 0, 0, 0, 1, 1],\n",
       "       [0, 0, 1, 1, 1, 0, 0]])"
      ]
     },
     "execution_count": 3,
     "metadata": {},
     "output_type": "execute_result"
    }
   ],
   "source": [
    "departures = generate_departures_from_visits(visits=visits,\n",
    "                                    n_vessels=2,\n",
    "                                    n_installations=4,\n",
    "                                    n_days_in_period=7)\n",
    "departures*1"
   ]
  },
  {
   "cell_type": "code",
   "execution_count": 8,
   "id": "6753fe1a-6849-4878-ad09-c7799d54191f",
   "metadata": {},
   "outputs": [
    {
     "data": {
      "text/plain": [
       "array([[[0, 0, 0, 0],\n",
       "        [3, 0, 0, 0],\n",
       "        [0, 0, 0, 0],\n",
       "        [0, 0, 0, 0],\n",
       "        [0, 0, 0, 0],\n",
       "        [1, 3, 0, 0],\n",
       "        [2, 4, 0, 0]],\n",
       "\n",
       "       [[0, 0, 0, 0],\n",
       "        [0, 0, 0, 0],\n",
       "        [1, 2, 0, 0],\n",
       "        [4, 0, 0, 0],\n",
       "        [2, 0, 0, 0],\n",
       "        [0, 0, 0, 0],\n",
       "        [0, 0, 0, 0]]], dtype=int8)"
      ]
     },
     "execution_count": 8,
     "metadata": {},
     "output_type": "execute_result"
    }
   ],
   "source": [
    "routes = generate_routes_from_visits_and_departures(visits=visits,\n",
    "                                               departures=departures,\n",
    "                                               n_days_in_period=7)\n",
    "routes"
   ]
  },
  {
   "cell_type": "code",
   "execution_count": 10,
   "id": "3c6751ed-0142-4013-964f-8f3b1fbd773e",
   "metadata": {},
   "outputs": [
    {
     "data": {
      "text/plain": [
       "array([[False, False,  True, False, False,  True, False],\n",
       "       [False, False,  True, False,  True, False,  True],\n",
       "       [False,  True, False, False, False,  True, False],\n",
       "       [False, False, False,  True, False, False,  True]])"
      ]
     },
     "execution_count": 10,
     "metadata": {},
     "output_type": "execute_result"
    }
   ],
   "source": [
    "generate_visits_from_routes(routes=routes,\n",
    "                                n_installations=len(visits),\n",
    "                                n_days_in_period=n_days_in_period)*1\n"
   ]
  },
  {
   "cell_type": "code",
   "execution_count": 12,
   "id": "59a027d9-7477-4706-831b-503e269f980d",
   "metadata": {},
   "outputs": [
    {
     "data": {
      "text/plain": [
       "True"
      ]
     },
     "execution_count": 12,
     "metadata": {},
     "output_type": "execute_result"
    }
   ],
   "source": [
    "np.array_equal(visits, generate_visits_from_routes(routes=routes,\n",
    "                                n_installations=len(visits),\n",
    "                                n_days_in_period=n_days_in_period))"
   ]
  },
  {
   "cell_type": "code",
   "execution_count": 14,
   "id": "31c40730-82ee-4d35-bfcd-59a114bfad08",
   "metadata": {},
   "outputs": [
    {
     "data": {
      "text/plain": [
       "True"
      ]
     },
     "execution_count": 14,
     "metadata": {},
     "output_type": "execute_result"
    }
   ],
   "source": [
    "np.array_equal(departures, generate_departures_from_routes(routes=routes))"
   ]
  }
 ],
 "metadata": {
  "kernelspec": {
   "display_name": "Python 3 (ipykernel)",
   "language": "python",
   "name": "python3"
  },
  "language_info": {
   "codemirror_mode": {
    "name": "ipython",
    "version": 3
   },
   "file_extension": ".py",
   "mimetype": "text/x-python",
   "name": "python",
   "nbconvert_exporter": "python",
   "pygments_lexer": "ipython3",
   "version": "3.10.6"
  }
 },
 "nbformat": 4,
 "nbformat_minor": 5
}
