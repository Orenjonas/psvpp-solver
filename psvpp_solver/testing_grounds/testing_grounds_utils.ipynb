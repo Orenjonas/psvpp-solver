{
 "cells": [
  {
   "cell_type": "code",
   "execution_count": 1,
   "id": "07917518-8f95-4946-9017-bbacdc258f6f",
   "metadata": {},
   "outputs": [],
   "source": [
    "import numpy as np"
   ]
  },
  {
   "cell_type": "markdown",
   "id": "2850cb60-903f-4a32-bcfd-17424e24c5f0",
   "metadata": {},
   "source": [
    "# Test set"
   ]
  },
  {
   "cell_type": "code",
   "execution_count": 1,
   "id": "ef8e524c-7f3a-4bc2-b857-fdf9fdb50d92",
   "metadata": {},
   "outputs": [
    {
     "name": "stdout",
     "output_type": "stream",
     "text": [
      "[[0 0 1 0 0 0 0]\n",
      " [0 1 0 0 1 0 0]\n",
      " [0 1 0 0 1 0 1]]\n",
      "CPU times: user 222 ms, sys: 169 ms, total: 391 ms\n",
      "Wall time: 208 ms\n"
     ]
    }
   ],
   "source": [
    "%%time\n",
    "\n",
    "import numpy as np\n",
    "\n",
    "from psvpp_solver.utils import generate_visits\n",
    "\n",
    "visits = generate_visits(n_installations = 3,\n",
    "                    n_days= 7,\n",
    "                    required_services=np.array([1, 2, 3], dtype=np.int8),\n",
    "                    )\n",
    "print(visits*1)"
   ]
  },
  {
   "cell_type": "code",
   "execution_count": 2,
   "id": "bd7ba9a2-33de-4ae9-a77a-72de6a79b77e",
   "metadata": {},
   "outputs": [
    {
     "ename": "IndexError",
     "evalue": "boolean index did not match indexed array along dimension 1; dimension is 7 but corresponding boolean dimension is 5",
     "output_type": "error",
     "traceback": [
      "\u001b[0;31m---------------------------------------------------------------------------\u001b[0m",
      "\u001b[0;31mIndexError\u001b[0m                                Traceback (most recent call last)",
      "Cell \u001b[0;32mIn[2], line 6\u001b[0m\n\u001b[1;32m      2\u001b[0m \u001b[38;5;28;01mfrom\u001b[39;00m \u001b[38;5;21;01mpsvpp_solver\u001b[39;00m\u001b[38;5;21;01m.\u001b[39;00m\u001b[38;5;21;01mutils\u001b[39;00m \u001b[38;5;28;01mimport\u001b[39;00m generate_departures_from_visits\n\u001b[1;32m      4\u001b[0m \u001b[38;5;28;01mimport\u001b[39;00m \u001b[38;5;21;01mnumpy\u001b[39;00m \u001b[38;5;28;01mas\u001b[39;00m \u001b[38;5;21;01mnp\u001b[39;00m\n\u001b[0;32m----> 6\u001b[0m \u001b[43mgenerate_departures_from_visits\u001b[49m\u001b[43m(\u001b[49m\u001b[43mvisits\u001b[49m\u001b[43m \u001b[49m\u001b[38;5;241;43m=\u001b[39;49m\u001b[43m \u001b[49m\u001b[43mvisits\u001b[49m\u001b[43m,\u001b[49m\n\u001b[1;32m      7\u001b[0m \u001b[43m                                    \u001b[49m\u001b[43mn_vessels\u001b[49m\u001b[38;5;241;43m=\u001b[39;49m\u001b[38;5;241;43m2\u001b[39;49m\u001b[43m,\u001b[49m\n\u001b[1;32m      8\u001b[0m \u001b[43m                                    \u001b[49m\u001b[43mn_installations\u001b[49m\u001b[38;5;241;43m=\u001b[39;49m\u001b[38;5;241;43m3\u001b[39;49m\u001b[43m,\u001b[49m\n\u001b[1;32m      9\u001b[0m \u001b[43m                                    \u001b[49m\u001b[43mn_days_in_period\u001b[49m\u001b[38;5;241;43m=\u001b[39;49m\u001b[38;5;241;43m7\u001b[39;49m\u001b[43m)\u001b[49m\n",
      "File \u001b[0;32m~/projects/psvpp-solver/psvpp_solver/utils.py:123\u001b[0m, in \u001b[0;36mgenerate_departures_from_visits\u001b[0;34m(visits, n_vessels, n_installations, n_days_in_period)\u001b[0m\n\u001b[1;32m    119\u001b[0m vessels \u001b[38;5;241m=\u001b[39m np\u001b[38;5;241m.\u001b[39mrandom\u001b[38;5;241m.\u001b[39mchoice(\u001b[38;5;28mrange\u001b[39m(n_vessels), size\u001b[38;5;241m=\u001b[39m\u001b[38;5;28mlen\u001b[39m(remaining_days),\n\u001b[1;32m    120\u001b[0m                            replace\u001b[38;5;241m=\u001b[39m\u001b[38;5;28;01mTrue\u001b[39;00m)\n\u001b[1;32m    122\u001b[0m \u001b[38;5;66;03m# Set remaining departures\u001b[39;00m\n\u001b[0;32m--> 123\u001b[0m \u001b[43mdepartures\u001b[49m\u001b[43m[\u001b[49m\u001b[43mvessels\u001b[49m\u001b[43m,\u001b[49m\u001b[43m \u001b[49m\u001b[43massigned_days\u001b[49m\u001b[43m]\u001b[49m \u001b[38;5;241m=\u001b[39m \u001b[38;5;241m1\u001b[39m\n\u001b[1;32m    125\u001b[0m \u001b[38;5;66;03m# TODO: implement\u001b[39;00m\n\u001b[1;32m    126\u001b[0m \u001b[38;5;66;03m# Check depot capasity\u001b[39;00m\n\u001b[1;32m    127\u001b[0m \u001b[38;5;66;03m# from psvpp_solver.constraints import check_max_pvs_prepared_constraint\u001b[39;00m\n\u001b[0;32m   (...)\u001b[0m\n\u001b[1;32m    133\u001b[0m \u001b[38;5;66;03m# if check_max_pvs_prepared_constraint(departures=visits,\u001b[39;00m\n\u001b[1;32m    134\u001b[0m \u001b[38;5;66;03m#                                      max_v_prepared=max_vessels_prepared):\u001b[39;00m\n\u001b[1;32m    136\u001b[0m \u001b[38;5;28;01mreturn\u001b[39;00m departures\n",
      "\u001b[0;31mIndexError\u001b[0m: boolean index did not match indexed array along dimension 1; dimension is 7 but corresponding boolean dimension is 5"
     ]
    }
   ],
   "source": [
    "# Test generate_departures_from_visits\n",
    "from psvpp_solver.utils import generate_departures_from_visits\n",
    "\n",
    "import numpy as np\n",
    "\n",
    "generate_departures_from_visits(visits = visits,\n",
    "                                    n_vessels=2,\n",
    "                                    n_installations=3,\n",
    "                                    n_days_in_period=7)"
   ]
  },
  {
   "cell_type": "code",
   "execution_count": 14,
   "id": "27ba399f-09d5-4754-aea9-7317db8d65e1",
   "metadata": {},
   "outputs": [],
   "source": [
    "departure_days = visits.any(axis=0)"
   ]
  },
  {
   "cell_type": "code",
   "execution_count": 20,
   "id": "a3b392df-c429-4847-821d-a223e3112737",
   "metadata": {},
   "outputs": [
    {
     "data": {
      "text/plain": [
       "array([1, 0, 0, 1, 1, 1, 0])"
      ]
     },
     "execution_count": 20,
     "metadata": {},
     "output_type": "execute_result"
    }
   ],
   "source": [
    "departure_days*1"
   ]
  },
  {
   "cell_type": "code",
   "execution_count": 23,
   "id": "fcf7eb94-24ee-406a-bc57-a1964ce8da2e",
   "metadata": {},
   "outputs": [
    {
     "data": {
      "text/plain": [
       "array([1, 0, 1, 1, 1])"
      ]
     },
     "execution_count": 23,
     "metadata": {},
     "output_type": "execute_result"
    }
   ],
   "source": [
    "np.delete(departure_days, [6, 1])*1"
   ]
  },
  {
   "cell_type": "code",
   "execution_count": 38,
   "id": "fc016f05-6481-4182-ba62-596b5dc45ea2",
   "metadata": {},
   "outputs": [
    {
     "data": {
      "text/plain": [
       "0"
      ]
     },
     "execution_count": 38,
     "metadata": {},
     "output_type": "execute_result"
    }
   ],
   "source": [
    "departure_days_idx = np.where(np.array([0,0]))[0]\n",
    "len(departure_days_idx)"
   ]
  },
  {
   "cell_type": "code",
   "execution_count": 42,
   "id": "1553d2e1-aa81-4bbf-a168-e49987d5cf3f",
   "metadata": {},
   "outputs": [
    {
     "data": {
      "text/plain": [
       "array([[False,  True, False, False, False, False,  True],\n",
       "       [False, False, False,  True,  True, False, False]])"
      ]
     },
     "execution_count": 42,
     "metadata": {},
     "output_type": "execute_result"
    }
   ],
   "source": [
    "a = np.zeros((2,7), dtype=bool)\n",
    "a[(0, 1, 1, 0), (1, 3, 4, 6)] = 1\n",
    "a"
   ]
  },
  {
   "cell_type": "code",
   "execution_count": 49,
   "id": "5d0126b5-1861-4917-936a-3c7cdb4d9f65",
   "metadata": {},
   "outputs": [
    {
     "data": {
      "text/plain": [
       "array([2, 0, 1])"
      ]
     },
     "execution_count": 49,
     "metadata": {},
     "output_type": "execute_result"
    }
   ],
   "source": [
    "np.random.choice(range(3), size=3, replace=False)"
   ]
  },
  {
   "cell_type": "code",
   "execution_count": 28,
   "id": "7a5b968f-bb08-4a38-ac21-05ca7f313748",
   "metadata": {},
   "outputs": [],
   "source": [
    "n_vessels = 3"
   ]
  },
  {
   "cell_type": "code",
   "execution_count": 36,
   "id": "acf362da-a588-4b3f-915e-91eb2c7eb5b1",
   "metadata": {},
   "outputs": [
    {
     "data": {
      "text/plain": [
       "array([3, 3, 5])"
      ]
     },
     "execution_count": 36,
     "metadata": {},
     "output_type": "execute_result"
    }
   ],
   "source": [
    "np.random.choice(departure_days_idx, size=n_vessels, replace=True)"
   ]
  },
  {
   "cell_type": "code",
   "execution_count": 4,
   "id": "c6b3d4ab-60a6-44ac-a379-4aabcdf96a5b",
   "metadata": {},
   "outputs": [
    {
     "data": {
      "text/plain": [
       "array([0, 0, 0, 0, 0])"
      ]
     },
     "execution_count": 4,
     "metadata": {},
     "output_type": "execute_result"
    }
   ],
   "source": [
    "import numpy as np\n",
    "np.random.choice(range(2), size=5, replace=True)"
   ]
  },
  {
   "cell_type": "code",
   "execution_count": 11,
   "id": "794c8f57-e7fd-4f85-bcd1-f169a176fe65",
   "metadata": {},
   "outputs": [
    {
     "data": {
      "text/plain": [
       "2"
      ]
     },
     "execution_count": 11,
     "metadata": {},
     "output_type": "execute_result"
    }
   ],
   "source": [
    "7//3"
   ]
  },
  {
   "cell_type": "markdown",
   "id": "6b3c840a-8af1-4572-ac39-6b22c85ec792",
   "metadata": {},
   "source": [
    "## TODO: Unit test:"
   ]
  },
  {
   "cell_type": "code",
   "execution_count": 17,
   "id": "d02128e6-8348-45da-aec3-fbef5db74180",
   "metadata": {},
   "outputs": [
    {
     "data": {
      "text/plain": [
       "True"
      ]
     },
     "execution_count": 17,
     "metadata": {},
     "output_type": "execute_result"
    }
   ],
   "source": [
    "# Check all vessels selected\n",
    "np.array_equal(np.unique(assignment), np.arange(3))"
   ]
  },
  {
   "cell_type": "code",
   "execution_count": 18,
   "id": "25946917-4e95-4cd8-a133-f619d85754f4",
   "metadata": {},
   "outputs": [
    {
     "data": {
      "text/plain": [
       "False"
      ]
     },
     "execution_count": 18,
     "metadata": {},
     "output_type": "execute_result"
    }
   ],
   "source": [
    "# Check departure pattern feasible\n",
    "from psvpp_solver.constraints import check_departures_sufficiently_spread\n",
    "\n",
    "check_departures_sufficiently_spread(visits=visits,\n",
    "                                         days_in_period=7,\n",
    "                                         required_services=np.array([2, 3, 2, 2, 2, 2], dtype=np.int8)\n",
    "                                         )"
   ]
  },
  {
   "cell_type": "code",
   "execution_count": 19,
   "id": "4e1b5987-3e17-4f72-ad78-7df5f7efae46",
   "metadata": {},
   "outputs": [
    {
     "name": "stdout",
     "output_type": "stream",
     "text": [
      "CPU times: user 12 ms, sys: 62 µs, total: 12 ms\n",
      "Wall time: 11 ms\n"
     ]
    }
   ],
   "source": [
    "%%time\n",
    "# Check departure pattern feasible\n",
    "from psvpp_solver.constraints import check_departures_sufficiently_spread\n",
    "\n",
    "\n",
    "while True:\n",
    "    visits = generate_visits(n_installations=4,\n",
    "                    n_days=7,\n",
    "                    days=np.arange(7),\n",
    "                    service_frequencies=np.array([2, 3, 2, 2, 2, 2], dtype=np.int8),\n",
    "                    )\n",
    "    sufficiently_spread = check_departures_sufficiently_spread(visits=visits,\n",
    "                                         days_in_period=7,\n",
    "                                         required_services=np.array([2, 3, 2, 2, 2, 2], dtype=np.int8)\n",
    "                                         )\n",
    "    if sufficiently_spread:\n",
    "        break"
   ]
  },
  {
   "cell_type": "code",
   "execution_count": 20,
   "id": "92c8eca7-0525-4be5-9e78-980ace2afd28",
   "metadata": {},
   "outputs": [
    {
     "data": {
      "text/plain": [
       "array([[1, 0, 0, 0, 1, 0, 0],\n",
       "       [1, 0, 0, 1, 0, 1, 0],\n",
       "       [0, 1, 0, 0, 0, 1, 0],\n",
       "       [0, 1, 0, 0, 0, 1, 0]])"
      ]
     },
     "execution_count": 20,
     "metadata": {},
     "output_type": "execute_result"
    }
   ],
   "source": [
    "visits*1"
   ]
  },
  {
   "cell_type": "code",
   "execution_count": 21,
   "id": "cbed50a7-d83b-4764-80d1-3dd67784d222",
   "metadata": {},
   "outputs": [],
   "source": [
    "# Check that max vessels prepared at installation constraint is satisfied"
   ]
  },
  {
   "cell_type": "code",
   "execution_count": 22,
   "id": "d245f65b-5955-4d54-ae46-d816add3c73f",
   "metadata": {},
   "outputs": [
    {
     "data": {
      "text/plain": [
       "array([0, 1, 2])"
      ]
     },
     "execution_count": 22,
     "metadata": {},
     "output_type": "execute_result"
    }
   ],
   "source": [
    "np.arange(3)"
   ]
  },
  {
   "cell_type": "code",
   "execution_count": 23,
   "id": "8409f5a0-6674-49ca-a75e-8e90810342b9",
   "metadata": {},
   "outputs": [
    {
     "data": {
      "text/plain": [
       "array([0, 1, 3])"
      ]
     },
     "execution_count": 23,
     "metadata": {},
     "output_type": "execute_result"
    }
   ],
   "source": [
    "idx = rng.choice(np.arange(len(visit_days)), replace=False, size = 3)\n",
    "\n",
    "idx"
   ]
  },
  {
   "cell_type": "code",
   "execution_count": 24,
   "id": "8cc34b0e-0256-42c2-ab56-b33a59e23636",
   "metadata": {},
   "outputs": [
    {
     "data": {
      "text/plain": [
       "array([0, 1, 5])"
      ]
     },
     "execution_count": 24,
     "metadata": {},
     "output_type": "execute_result"
    }
   ],
   "source": [
    "visit_days[idx]"
   ]
  }
 ],
 "metadata": {
  "kernelspec": {
   "display_name": "Python 3 (ipykernel)",
   "language": "python",
   "name": "python3"
  },
  "language_info": {
   "codemirror_mode": {
    "name": "ipython",
    "version": 3
   },
   "file_extension": ".py",
   "mimetype": "text/x-python",
   "name": "python",
   "nbconvert_exporter": "python",
   "pygments_lexer": "ipython3",
   "version": "3.10.6"
  }
 },
 "nbformat": 4,
 "nbformat_minor": 5
}
