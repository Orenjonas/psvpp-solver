{
 "cells": [
  {
   "cell_type": "code",
   "execution_count": 1,
   "id": "06d0eaa3-3997-42b3-b88d-623fe1b14339",
   "metadata": {},
   "outputs": [],
   "source": [
    "import numpy as np\n",
    "from psvpp_solver.utils import generate_visits, generate_departures_from_visits"
   ]
  },
  {
   "cell_type": "code",
   "execution_count": 2,
   "id": "8d1e31d3-3929-400d-b2be-a09eb46e6a36",
   "metadata": {},
   "outputs": [
    {
     "data": {
      "text/plain": [
       "array([[1, 0, 0, 0, 1, 0, 0],\n",
       "       [0, 1, 0, 0, 1, 0, 1],\n",
       "       [0, 0, 1, 0, 0, 0, 1],\n",
       "       [0, 0, 0, 1, 0, 0, 1]])"
      ]
     },
     "execution_count": 2,
     "metadata": {},
     "output_type": "execute_result"
    }
   ],
   "source": [
    "visits = generate_visits(n_installations = 4,\n",
    "                    n_days_in_period=7,\n",
    "                    required_services=np.array([2, 3, 2, 2], dtype=np.int8),\n",
    "                    max_vessels_prepared=2)\n",
    "visits*1"
   ]
  },
  {
   "cell_type": "code",
   "execution_count": 4,
   "id": "8cc9e208-2936-4f85-ade2-0a7ddb8d0b08",
   "metadata": {},
   "outputs": [
    {
     "data": {
      "text/plain": [
       "array([[0, 1, 1, 0, 0, 0, 0],\n",
       "       [1, 0, 0, 1, 1, 0, 1]])"
      ]
     },
     "execution_count": 4,
     "metadata": {},
     "output_type": "execute_result"
    }
   ],
   "source": [
    "departures = generate_departures_from_visits(visits=visits,\n",
    "                                    n_vessels=2,\n",
    "                                    n_installations=4,\n",
    "                                    n_days_in_period=7)\n",
    "departures*1"
   ]
  },
  {
   "cell_type": "code",
   "execution_count": 7,
   "id": "6cb4e2a6-17c4-486a-b5a2-5cd224b60b04",
   "metadata": {},
   "outputs": [],
   "source": [
    "n_days_in_period = 7"
   ]
  },
  {
   "cell_type": "code",
   "execution_count": 28,
   "id": "27fddecd-624a-474f-87fa-06205924cb2e",
   "metadata": {},
   "outputs": [
    {
     "data": {
      "text/plain": [
       "array([[[0, 0, 0, 0],\n",
       "        [0, 0, 0, 0],\n",
       "        [0, 0, 0, 0],\n",
       "        [0, 0, 0, 0],\n",
       "        [0, 0, 0, 0],\n",
       "        [0, 0, 0, 0],\n",
       "        [0, 0, 0, 0]],\n",
       "\n",
       "       [[0, 0, 0, 0],\n",
       "        [0, 0, 0, 0],\n",
       "        [0, 0, 0, 0],\n",
       "        [0, 0, 0, 0],\n",
       "        [0, 0, 0, 0],\n",
       "        [0, 0, 0, 0],\n",
       "        [0, 0, 0, 0]]], dtype=int8)"
      ]
     },
     "execution_count": 28,
     "metadata": {},
     "output_type": "execute_result"
    }
   ],
   "source": [
    "    routes = np.zeros(shape=(len(departures), n_days_in_period, len(visits)),\n",
    "                      dtype=np.int8)\n",
    "routes"
   ]
  },
  {
   "cell_type": "code",
   "execution_count": 25,
   "id": "b99a5746-ab92-4668-8a13-c37d482d3601",
   "metadata": {},
   "outputs": [
    {
     "data": {
      "text/plain": [
       "array([[1, 0, 0, 0, 1, 0, 0],\n",
       "       [0, 1, 0, 0, 1, 0, 1],\n",
       "       [0, 0, 1, 0, 0, 0, 1],\n",
       "       [0, 0, 0, 1, 0, 0, 1]])"
      ]
     },
     "execution_count": 25,
     "metadata": {},
     "output_type": "execute_result"
    }
   ],
   "source": [
    "visits*1"
   ]
  },
  {
   "cell_type": "code",
   "execution_count": 10,
   "id": "010f443a-64c7-46a6-a25e-25da692c8811",
   "metadata": {},
   "outputs": [
    {
     "data": {
      "text/plain": [
       "(array([0, 0, 1, 1, 1, 2, 2, 3, 3]), array([0, 4, 1, 4, 6, 2, 6, 3, 6]))"
      ]
     },
     "execution_count": 10,
     "metadata": {},
     "output_type": "execute_result"
    }
   ],
   "source": [
    "np.where(visits)"
   ]
  },
  {
   "cell_type": "code",
   "execution_count": 22,
   "id": "13451677-0ac0-43bf-a805-a98f94e0c2ed",
   "metadata": {},
   "outputs": [],
   "source": [
    "installation_visit, day_visit = np.where(visits)"
   ]
  },
  {
   "cell_type": "code",
   "execution_count": 11,
   "id": "69b29cc8-df3d-4e63-a0cf-d9b0a08e0da4",
   "metadata": {},
   "outputs": [
    {
     "data": {
      "text/plain": [
       "array([[0, 1, 1, 0, 0, 0, 0],\n",
       "       [1, 0, 0, 1, 1, 0, 1]])"
      ]
     },
     "execution_count": 11,
     "metadata": {},
     "output_type": "execute_result"
    }
   ],
   "source": [
    "departures*1"
   ]
  },
  {
   "cell_type": "code",
   "execution_count": null,
   "id": "16a5098a-15a8-427c-818b-a5f64edbc68a",
   "metadata": {},
   "outputs": [],
   "source": [
    "departures"
   ]
  },
  {
   "cell_type": "code",
   "execution_count": 19,
   "id": "d8f9e6cf-c7e8-4f15-bf92-8518eb5c657c",
   "metadata": {},
   "outputs": [
    {
     "data": {
      "text/plain": [
       "(array([0, 0, 1, 1, 1, 1]), array([1, 2, 0, 3, 4, 6]))"
      ]
     },
     "execution_count": 19,
     "metadata": {},
     "output_type": "execute_result"
    }
   ],
   "source": [
    "np.where(departures)"
   ]
  },
  {
   "cell_type": "code",
   "execution_count": 23,
   "id": "8167dea6-9c3f-4946-9588-7821ac28d0af",
   "metadata": {},
   "outputs": [],
   "source": [
    "which_vessel, day_departures = np.where(departures)"
   ]
  },
  {
   "cell_type": "code",
   "execution_count": 132,
   "id": "661d5860-ba46-4596-b960-06b118de2dd4",
   "metadata": {},
   "outputs": [
    {
     "data": {
      "text/plain": [
       "array([[0, 1, 0, 0],\n",
       "       [0, 0, 1, 0],\n",
       "       [1, 0, 0, 0],\n",
       "       [0, 0, 0, 1],\n",
       "       [1, 1, 0, 0],\n",
       "       [0, 1, 1, 1]])"
      ]
     },
     "execution_count": 132,
     "metadata": {},
     "output_type": "execute_result"
    }
   ],
   "source": [
    "visits[:, day_departures].T*1"
   ]
  },
  {
   "cell_type": "code",
   "execution_count": 133,
   "id": "c74fc6a7-d753-4632-851c-6ddb394bdd97",
   "metadata": {},
   "outputs": [
    {
     "data": {
      "text/plain": [
       "(array([0, 1, 2, 3, 4, 4, 5, 5, 5]), array([2, 3, 1, 4, 1, 2, 2, 3, 4]))"
      ]
     },
     "execution_count": 133,
     "metadata": {},
     "output_type": "execute_result"
    }
   ],
   "source": [
    "a, b = np.where(visits[:, day_departures].T)\n",
    "b=b+1\n",
    "a, b"
   ]
  },
  {
   "cell_type": "code",
   "execution_count": 119,
   "id": "8a057198-da13-4336-bada-2e63fdc21a40",
   "metadata": {},
   "outputs": [
    {
     "data": {
      "text/plain": [
       "(array([0, 1, 2, 3, 4, 5]), array([1, 1, 1, 1, 2, 3]))"
      ]
     },
     "execution_count": 119,
     "metadata": {},
     "output_type": "execute_result"
    }
   ],
   "source": [
    "uq, counts = np.unique(a, return_counts=True)\n",
    "uq, counts"
   ]
  },
  {
   "cell_type": "code",
   "execution_count": 134,
   "id": "af1e4af6-9968-46c7-be17-4b30a0b25c83",
   "metadata": {},
   "outputs": [],
   "source": [
    "from itertools import chain\n",
    "\n",
    "installation_order_index = np.fromiter(chain.from_iterable(np.arange(x) for x in counts), dtype=np.int8)\n",
    "installation_order_index"
   ]
  },
  {
   "cell_type": "code",
   "execution_count": 136,
   "id": "a760ab8e-1069-4d00-9fe4-cc78f14c0dec",
   "metadata": {},
   "outputs": [
    {
     "data": {
      "text/plain": [
       "array([[[0, 0, 0, 0],\n",
       "        [2, 0, 0, 0],\n",
       "        [3, 0, 0, 0],\n",
       "        [0, 0, 0, 0],\n",
       "        [0, 0, 0, 0],\n",
       "        [0, 0, 0, 0],\n",
       "        [0, 0, 0, 0]],\n",
       "\n",
       "       [[1, 0, 0, 0],\n",
       "        [0, 0, 0, 0],\n",
       "        [0, 0, 0, 0],\n",
       "        [4, 0, 0, 0],\n",
       "        [1, 2, 0, 0],\n",
       "        [0, 0, 0, 0],\n",
       "        [2, 3, 4, 0]]], dtype=int8)"
      ]
     },
     "execution_count": 136,
     "metadata": {},
     "output_type": "execute_result"
    }
   ],
   "source": [
    "routes[which_vessel[a], day_departures[a], installation_order_index] = b\n",
    "routes"
   ]
  },
  {
   "cell_type": "code",
   "execution_count": 51,
   "id": "18866b13-a001-4a85-8d5e-d75c2acf73cf",
   "metadata": {},
   "outputs": [
    {
     "data": {
      "text/plain": [
       "array([0, 0, 1, 1, 1, 1, 1, 1, 1])"
      ]
     },
     "execution_count": 51,
     "metadata": {},
     "output_type": "execute_result"
    }
   ],
   "source": [
    "which_vessel[a]"
   ]
  },
  {
   "cell_type": "code",
   "execution_count": 52,
   "id": "f313cae8-14d7-494e-85e6-5aebeb273e27",
   "metadata": {},
   "outputs": [
    {
     "data": {
      "text/plain": [
       "array([1, 2, 0, 3, 4, 4, 6, 6, 6])"
      ]
     },
     "execution_count": 52,
     "metadata": {},
     "output_type": "execute_result"
    }
   ],
   "source": [
    "day_departures[a]"
   ]
  },
  {
   "cell_type": "code",
   "execution_count": 48,
   "id": "f2c09b6f-6d2f-43ee-95b2-5f244a19ffce",
   "metadata": {},
   "outputs": [
    {
     "data": {
      "text/plain": [
       "array([[0, 0, 1, 0, 1, 0],\n",
       "       [2, 0, 0, 0, 2, 2],\n",
       "       [0, 3, 0, 0, 0, 3],\n",
       "       [0, 0, 0, 4, 0, 4]])"
      ]
     },
     "execution_count": 48,
     "metadata": {},
     "output_type": "execute_result"
    }
   ],
   "source": [
    "xx = (visits[:, day_departures].T*1 * np.arange(1, len(visits)+1)).T\n",
    "xx"
   ]
  },
  {
   "cell_type": "code",
   "execution_count": null,
   "id": "b78c2df5-0eb0-470f-b0e0-c113bf586dfc",
   "metadata": {},
   "outputs": [],
   "source": [
    "vessel_installation_visits"
   ]
  },
  {
   "cell_type": "code",
   "execution_count": 18,
   "id": "a130a055-1d41-4f99-a818-78c265963348",
   "metadata": {},
   "outputs": [
    {
     "ename": "IndexError",
     "evalue": "shape mismatch: indexing arrays could not be broadcast together with shapes (6,) (6,) (9,) ",
     "output_type": "error",
     "traceback": [
      "\u001b[0;31m---------------------------------------------------------------------------\u001b[0m",
      "\u001b[0;31mIndexError\u001b[0m                                Traceback (most recent call last)",
      "Cell \u001b[0;32mIn[18], line 1\u001b[0m\n\u001b[0;32m----> 1\u001b[0m \u001b[43mroutes\u001b[49m\u001b[43m[\u001b[49m\u001b[43mwhich_vessel\u001b[49m\u001b[43m,\u001b[49m\u001b[43m \u001b[49m\u001b[43mwhich_station\u001b[49m\u001b[43m,\u001b[49m\u001b[43m \u001b[49m\u001b[43mwhich_day\u001b[49m\u001b[43m]\u001b[49m \u001b[38;5;241m=\u001b[39m \u001b[38;5;241m1\u001b[39m\n",
      "\u001b[0;31mIndexError\u001b[0m: shape mismatch: indexing arrays could not be broadcast together with shapes (6,) (6,) (9,) "
     ]
    }
   ],
   "source": [
    "routes[, day_visit, np.arange(visits)] = 1"
   ]
  },
  {
   "cell_type": "code",
   "execution_count": null,
   "id": "74214f97-07ad-46e8-8b27-4f653526269f",
   "metadata": {},
   "outputs": [],
   "source": []
  }
 ],
 "metadata": {
  "kernelspec": {
   "display_name": "Python 3 (ipykernel)",
   "language": "python",
   "name": "python3"
  },
  "language_info": {
   "codemirror_mode": {
    "name": "ipython",
    "version": 3
   },
   "file_extension": ".py",
   "mimetype": "text/x-python",
   "name": "python",
   "nbconvert_exporter": "python",
   "pygments_lexer": "ipython3",
   "version": "3.10.6"
  }
 },
 "nbformat": 4,
 "nbformat_minor": 5
}
