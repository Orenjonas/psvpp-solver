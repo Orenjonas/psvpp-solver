{
 "cells": [
  {
   "cell_type": "code",
   "execution_count": 1,
   "id": "13f0f1b6-3fc0-4455-b59a-0df77bd5937f",
   "metadata": {},
   "outputs": [],
   "source": [
    "import numpy as np"
   ]
  },
  {
   "cell_type": "code",
   "execution_count": 86,
   "id": "8c42c1a9-ec3a-422c-a4a9-1f4eb88d98b7",
   "metadata": {},
   "outputs": [],
   "source": [
    "    routes = [\n",
    "        [[1, 2, 0, 0], # [[1, 2], [],     [4, 3, 2], []],\n",
    "         [0, 0, 0, 0],\n",
    "         [4, 3, 2, 1],\n",
    "         [0, 0, 0, 0]],\n",
    "        [[0, 0, 0, 0], # [[],     [3, 4], [],        [1, 2]]\n",
    "         [3, 4, 0, 0],\n",
    "         [0, 0, 0, 0],\n",
    "         [1, 2, 0, 0]]\n",
    "    ]\n",
    "routes = np.array(routes)"
   ]
  },
  {
   "cell_type": "code",
   "execution_count": 87,
   "id": "055a582a-ca49-42d7-88e3-bed1d687ec64",
   "metadata": {},
   "outputs": [
    {
     "data": {
      "text/plain": [
       "array([[[1, 2, 0, 0],\n",
       "        [0, 0, 0, 0],\n",
       "        [4, 3, 2, 1],\n",
       "        [0, 0, 0, 0]],\n",
       "\n",
       "       [[0, 0, 0, 0],\n",
       "        [3, 4, 0, 0],\n",
       "        [0, 0, 0, 0],\n",
       "        [1, 2, 0, 0]]])"
      ]
     },
     "execution_count": 87,
     "metadata": {},
     "output_type": "execute_result"
    }
   ],
   "source": [
    "routes"
   ]
  },
  {
   "cell_type": "code",
   "execution_count": 140,
   "id": "c1277902-3236-4650-9122-6a72329206ea",
   "metadata": {},
   "outputs": [],
   "source": [
    "zz = np.zeros_like(routes[:,:,0:1])"
   ]
  },
  {
   "cell_type": "code",
   "execution_count": 141,
   "id": "5e7db99b-5169-48be-9707-bf5169696981",
   "metadata": {},
   "outputs": [
    {
     "data": {
      "text/plain": [
       "array([[[0],\n",
       "        [0],\n",
       "        [0],\n",
       "        [0]],\n",
       "\n",
       "       [[0],\n",
       "        [0],\n",
       "        [0],\n",
       "        [0]]])"
      ]
     },
     "execution_count": 141,
     "metadata": {},
     "output_type": "execute_result"
    }
   ],
   "source": [
    "zz"
   ]
  },
  {
   "cell_type": "code",
   "execution_count": 89,
   "id": "2550dcff-1993-463e-8f6d-71875387b2b7",
   "metadata": {},
   "outputs": [
    {
     "data": {
      "text/plain": [
       "array([[1, 2, 0, 0],\n",
       "       [0, 0, 0, 0],\n",
       "       [4, 3, 2, 1],\n",
       "       [0, 0, 0, 0]])"
      ]
     },
     "execution_count": 89,
     "metadata": {},
     "output_type": "execute_result"
    }
   ],
   "source": [
    "routes[0]"
   ]
  },
  {
   "cell_type": "code",
   "execution_count": 90,
   "id": "0e29d38d-d9ba-402c-ab0b-0a8225706a4c",
   "metadata": {},
   "outputs": [
    {
     "data": {
      "text/plain": [
       "array([[1, 2, 0],\n",
       "       [0, 0, 0],\n",
       "       [4, 3, 2],\n",
       "       [0, 0, 0]])"
      ]
     },
     "execution_count": 90,
     "metadata": {},
     "output_type": "execute_result"
    }
   ],
   "source": [
    "routes[0, :, :-1]"
   ]
  },
  {
   "cell_type": "markdown",
   "id": "489499a1-1653-48de-9435-fbda4fb84183",
   "metadata": {},
   "source": [
    "## One vessel"
   ]
  },
  {
   "cell_type": "code",
   "execution_count": 142,
   "id": "e422e288-eef9-42d4-9863-4ab5da3c49f6",
   "metadata": {},
   "outputs": [
    {
     "ename": "ValueError",
     "evalue": "all the input arrays must have same number of dimensions, but the array at index 0 has 2 dimension(s) and the array at index 1 has 3 dimension(s)",
     "output_type": "error",
     "traceback": [
      "\u001b[0;31m---------------------------------------------------------------------------\u001b[0m",
      "\u001b[0;31mValueError\u001b[0m                                Traceback (most recent call last)",
      "Cell \u001b[0;32mIn[142], line 1\u001b[0m\n\u001b[0;32m----> 1\u001b[0m a \u001b[38;5;241m=\u001b[39m \u001b[43mnp\u001b[49m\u001b[38;5;241;43m.\u001b[39;49m\u001b[43mconcatenate\u001b[49m\u001b[43m(\u001b[49m\u001b[43m(\u001b[49m\u001b[43mroutes\u001b[49m\u001b[43m[\u001b[49m\u001b[38;5;241;43m0\u001b[39;49m\u001b[43m]\u001b[49m\u001b[43m,\u001b[49m\u001b[43m \u001b[49m\u001b[43mzz\u001b[49m\u001b[43m)\u001b[49m\u001b[43m,\u001b[49m\u001b[43m \u001b[49m\u001b[43maxis\u001b[49m\u001b[38;5;241;43m=\u001b[39;49m\u001b[38;5;241;43m1\u001b[39;49m\u001b[43m)\u001b[49m\n\u001b[1;32m      2\u001b[0m a\n",
      "File \u001b[0;32m<__array_function__ internals>:180\u001b[0m, in \u001b[0;36mconcatenate\u001b[0;34m(*args, **kwargs)\u001b[0m\n",
      "\u001b[0;31mValueError\u001b[0m: all the input arrays must have same number of dimensions, but the array at index 0 has 2 dimension(s) and the array at index 1 has 3 dimension(s)"
     ]
    }
   ],
   "source": [
    "a = np.concatenate((routes[0], zz), axis=1)\n",
    "a"
   ]
  },
  {
   "cell_type": "code",
   "execution_count": 104,
   "id": "aae9270c-8657-4be4-8492-e6e9e9ab5180",
   "metadata": {},
   "outputs": [
    {
     "data": {
      "text/plain": [
       "array([[0, 1, 2, 0, 0],\n",
       "       [0, 0, 0, 0, 0],\n",
       "       [0, 4, 3, 2, 1],\n",
       "       [0, 0, 0, 0, 0]])"
      ]
     },
     "execution_count": 104,
     "metadata": {},
     "output_type": "execute_result"
    }
   ],
   "source": [
    "b = np.concatenate((zz[0, :, 0:1], routes[0]), axis=1)\n",
    "b"
   ]
  },
  {
   "cell_type": "code",
   "execution_count": 105,
   "id": "0c2b93a8-1a76-47e1-9800-9cf6a30a1dcd",
   "metadata": {},
   "outputs": [
    {
     "data": {
      "text/plain": [
       "array([[0, 1, 2, 3, 4],\n",
       "       [1, 0, 5, 6, 4],\n",
       "       [2, 5, 0, 7, 4],\n",
       "       [3, 6, 7, 0, 4],\n",
       "       [4, 4, 4, 4, 0]])"
      ]
     },
     "execution_count": 105,
     "metadata": {},
     "output_type": "execute_result"
    }
   ],
   "source": [
    "distances = np.array([\n",
    "    [0,1,2,3,4],\n",
    "    [0,0,5,6,4],\n",
    "    [0,0,0,7,4],\n",
    "    [0,0,0,0,4],\n",
    "    [0,0,0,0,0]]\n",
    "            )\n",
    "distances = distances + distances.T\n",
    "distances"
   ]
  },
  {
   "cell_type": "code",
   "execution_count": 108,
   "id": "81296562-d0ce-45a4-8fb0-4f36bc1025cb",
   "metadata": {},
   "outputs": [
    {
     "data": {
      "text/plain": [
       "array([[1, 5, 2, 0, 0],\n",
       "       [0, 0, 0, 0, 0],\n",
       "       [4, 4, 7, 5, 1],\n",
       "       [0, 0, 0, 0, 0]])"
      ]
     },
     "execution_count": 108,
     "metadata": {},
     "output_type": "execute_result"
    }
   ],
   "source": [
    "distances[a, b]"
   ]
  },
  {
   "cell_type": "code",
   "execution_count": 109,
   "id": "1988760f-f2d6-4070-9d28-0b3932285b1d",
   "metadata": {},
   "outputs": [
    {
     "data": {
      "text/plain": [
       "29"
      ]
     },
     "execution_count": 109,
     "metadata": {},
     "output_type": "execute_result"
    }
   ],
   "source": [
    "np.sum(distances[a,b])"
   ]
  },
  {
   "cell_type": "markdown",
   "id": "e5671d62-60b2-44a2-ba1e-660640ff9598",
   "metadata": {},
   "source": [
    "## All vessels"
   ]
  },
  {
   "cell_type": "code",
   "execution_count": 111,
   "id": "6793e276-87bf-4734-af93-1faa45f8b353",
   "metadata": {},
   "outputs": [
    {
     "data": {
      "text/plain": [
       "array([[[0],\n",
       "        [0],\n",
       "        [0],\n",
       "        [0]],\n",
       "\n",
       "       [[0],\n",
       "        [0],\n",
       "        [0],\n",
       "        [0]]])"
      ]
     },
     "execution_count": 111,
     "metadata": {},
     "output_type": "execute_result"
    }
   ],
   "source": [
    "zz[:, :, 0:1]"
   ]
  },
  {
   "cell_type": "markdown",
   "id": "482df38b-e746-45ea-ad81-2b6815f0d4b8",
   "metadata": {},
   "source": [
    "Zero (depot) padded routes"
   ]
  },
  {
   "cell_type": "code",
   "execution_count": 143,
   "id": "be3d2ac1-f6c2-4c41-968f-a0e836149647",
   "metadata": {},
   "outputs": [
    {
     "data": {
      "text/plain": [
       "array([[[1, 2, 0, 0, 0],\n",
       "        [0, 0, 0, 0, 0],\n",
       "        [4, 3, 2, 1, 0],\n",
       "        [0, 0, 0, 0, 0]],\n",
       "\n",
       "       [[0, 0, 0, 0, 0],\n",
       "        [3, 4, 0, 0, 0],\n",
       "        [0, 0, 0, 0, 0],\n",
       "        [1, 2, 0, 0, 0]]])"
      ]
     },
     "execution_count": 143,
     "metadata": {},
     "output_type": "execute_result"
    }
   ],
   "source": [
    "a = np.concatenate((routes, zz), axis=2)\n",
    "a"
   ]
  },
  {
   "cell_type": "code",
   "execution_count": 113,
   "id": "e5ae57da-9f31-41d7-9c78-eea08128f4da",
   "metadata": {},
   "outputs": [
    {
     "data": {
      "text/plain": [
       "array([[[0, 1, 2, 0, 0],\n",
       "        [0, 0, 0, 0, 0],\n",
       "        [0, 4, 3, 2, 1],\n",
       "        [0, 0, 0, 0, 0]],\n",
       "\n",
       "       [[0, 0, 0, 0, 0],\n",
       "        [0, 3, 4, 0, 0],\n",
       "        [0, 0, 0, 0, 0],\n",
       "        [0, 1, 2, 0, 0]]])"
      ]
     },
     "execution_count": 113,
     "metadata": {},
     "output_type": "execute_result"
    }
   ],
   "source": [
    "b = np.concatenate((zz[:, :, 0:1], routes), axis=2)\n",
    "b"
   ]
  },
  {
   "cell_type": "code",
   "execution_count": 114,
   "id": "ba5fede5-0d32-41e7-a8ae-35e043153cb6",
   "metadata": {},
   "outputs": [
    {
     "data": {
      "text/plain": [
       "array([[0, 1, 2, 3, 4],\n",
       "       [1, 0, 5, 6, 4],\n",
       "       [2, 5, 0, 7, 4],\n",
       "       [3, 6, 7, 0, 4],\n",
       "       [4, 4, 4, 4, 0]])"
      ]
     },
     "execution_count": 114,
     "metadata": {},
     "output_type": "execute_result"
    }
   ],
   "source": [
    "distances = np.array([\n",
    "    [0,1,2,3,4],\n",
    "    [0,0,5,6,4],\n",
    "    [0,0,0,7,4],\n",
    "    [0,0,0,0,4],\n",
    "    [0,0,0,0,0]]\n",
    "            )\n",
    "distances = distances + distances.T\n",
    "distances"
   ]
  },
  {
   "cell_type": "code",
   "execution_count": 115,
   "id": "99d0584d-8d01-4351-87a6-e32c284afde9",
   "metadata": {},
   "outputs": [
    {
     "data": {
      "text/plain": [
       "array([[[1, 5, 2, 0, 0],\n",
       "        [0, 0, 0, 0, 0],\n",
       "        [4, 4, 7, 5, 1],\n",
       "        [0, 0, 0, 0, 0]],\n",
       "\n",
       "       [[0, 0, 0, 0, 0],\n",
       "        [3, 4, 4, 0, 0],\n",
       "        [0, 0, 0, 0, 0],\n",
       "        [1, 5, 2, 0, 0]]])"
      ]
     },
     "execution_count": 115,
     "metadata": {},
     "output_type": "execute_result"
    }
   ],
   "source": [
    "distances[a, b]"
   ]
  },
  {
   "cell_type": "markdown",
   "id": "68fdb10a-5eb5-4db4-b266-1bb6946878aa",
   "metadata": {},
   "source": [
    "Get total sailing distance for each vessel"
   ]
  },
  {
   "cell_type": "code",
   "execution_count": 144,
   "id": "ab1c4f0e-46d7-41f5-905f-a043d52351ae",
   "metadata": {},
   "outputs": [
    {
     "data": {
      "text/plain": [
       "array([29, 19])"
      ]
     },
     "execution_count": 144,
     "metadata": {},
     "output_type": "execute_result"
    }
   ],
   "source": [
    "total_sailing_distance = np.sum(distances[a,b], axis=(2,1))\n",
    "total_sailing_distance"
   ]
  },
  {
   "cell_type": "markdown",
   "id": "f9f1d82a-2653-40ee-bda7-c15fba5d3d34",
   "metadata": {},
   "source": [
    "### Succsess!"
   ]
  },
  {
   "cell_type": "markdown",
   "id": "d5a728b2-004b-42ea-94f1-beeeb5bebfcf",
   "metadata": {},
   "source": [
    "## Sum cost"
   ]
  },
  {
   "cell_type": "code",
   "execution_count": 147,
   "id": "f0ac1d31-6ebf-47ae-ad55-915aa5db5f80",
   "metadata": {},
   "outputs": [
    {
     "data": {
      "text/plain": [
       "29"
      ]
     },
     "execution_count": 147,
     "metadata": {},
     "output_type": "execute_result"
    }
   ],
   "source": [
    "np.dot(total_sailing_distance, np.array((1,0)))"
   ]
  }
 ],
 "metadata": {
  "kernelspec": {
   "display_name": "Python 3 (ipykernel)",
   "language": "python",
   "name": "python3"
  },
  "language_info": {
   "codemirror_mode": {
    "name": "ipython",
    "version": 3
   },
   "file_extension": ".py",
   "mimetype": "text/x-python",
   "name": "python",
   "nbconvert_exporter": "python",
   "pygments_lexer": "ipython3",
   "version": "3.10.6"
  }
 },
 "nbformat": 4,
 "nbformat_minor": 5
}
