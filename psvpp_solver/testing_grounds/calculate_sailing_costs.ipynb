{
 "cells": [
  {
   "cell_type": "code",
   "execution_count": 1,
   "id": "13f0f1b6-3fc0-4455-b59a-0df77bd5937f",
   "metadata": {},
   "outputs": [],
   "source": [
    "import numpy as np"
   ]
  },
  {
   "cell_type": "code",
   "execution_count": 2,
   "id": "8c42c1a9-ec3a-422c-a4a9-1f4eb88d98b7",
   "metadata": {},
   "outputs": [],
   "source": [
    "    routes = [\n",
    "        [[1, 2, 0, 0], # [[1, 2], [],     [4, 3, 2], []],\n",
    "         [0, 0, 0, 0],\n",
    "         [4, 3, 2, 1],\n",
    "         [0, 0, 0, 0]],\n",
    "        [[0, 0, 0, 0], # [[],     [3, 4], [],        [1, 2]]\n",
    "         [3, 4, 0, 0],\n",
    "         [0, 0, 0, 0],\n",
    "         [1, 2, 0, 0]]\n",
    "    ]\n",
    "routes = np.array(routes)"
   ]
  },
  {
   "cell_type": "code",
   "execution_count": 3,
   "id": "055a582a-ca49-42d7-88e3-bed1d687ec64",
   "metadata": {},
   "outputs": [
    {
     "data": {
      "text/plain": [
       "array([[[1, 2, 0, 0],\n",
       "        [0, 0, 0, 0],\n",
       "        [4, 3, 2, 1],\n",
       "        [0, 0, 0, 0]],\n",
       "\n",
       "       [[0, 0, 0, 0],\n",
       "        [3, 4, 0, 0],\n",
       "        [0, 0, 0, 0],\n",
       "        [1, 2, 0, 0]]])"
      ]
     },
     "execution_count": 3,
     "metadata": {},
     "output_type": "execute_result"
    }
   ],
   "source": [
    "routes"
   ]
  },
  {
   "cell_type": "code",
   "execution_count": 4,
   "id": "c1277902-3236-4650-9122-6a72329206ea",
   "metadata": {},
   "outputs": [],
   "source": [
    "zz = np.zeros_like(routes[:,:,0:1])"
   ]
  },
  {
   "cell_type": "code",
   "execution_count": 5,
   "id": "5e7db99b-5169-48be-9707-bf5169696981",
   "metadata": {},
   "outputs": [
    {
     "data": {
      "text/plain": [
       "array([[[0],\n",
       "        [0],\n",
       "        [0],\n",
       "        [0]],\n",
       "\n",
       "       [[0],\n",
       "        [0],\n",
       "        [0],\n",
       "        [0]]])"
      ]
     },
     "execution_count": 5,
     "metadata": {},
     "output_type": "execute_result"
    }
   ],
   "source": [
    "zz"
   ]
  },
  {
   "cell_type": "code",
   "execution_count": 6,
   "id": "2550dcff-1993-463e-8f6d-71875387b2b7",
   "metadata": {},
   "outputs": [
    {
     "data": {
      "text/plain": [
       "array([[1, 2, 0, 0],\n",
       "       [0, 0, 0, 0],\n",
       "       [4, 3, 2, 1],\n",
       "       [0, 0, 0, 0]])"
      ]
     },
     "execution_count": 6,
     "metadata": {},
     "output_type": "execute_result"
    }
   ],
   "source": [
    "routes[0]"
   ]
  },
  {
   "cell_type": "code",
   "execution_count": 7,
   "id": "0e29d38d-d9ba-402c-ab0b-0a8225706a4c",
   "metadata": {},
   "outputs": [
    {
     "data": {
      "text/plain": [
       "array([[1, 2, 0],\n",
       "       [0, 0, 0],\n",
       "       [4, 3, 2],\n",
       "       [0, 0, 0]])"
      ]
     },
     "execution_count": 7,
     "metadata": {},
     "output_type": "execute_result"
    }
   ],
   "source": [
    "routes[0, :, :-1]"
   ]
  },
  {
   "cell_type": "markdown",
   "id": "e5671d62-60b2-44a2-ba1e-660640ff9598",
   "metadata": {},
   "source": [
    "## All vessels"
   ]
  },
  {
   "cell_type": "code",
   "execution_count": 18,
   "id": "6793e276-87bf-4734-af93-1faa45f8b353",
   "metadata": {},
   "outputs": [
    {
     "data": {
      "text/plain": [
       "array([[[0],\n",
       "        [0],\n",
       "        [0],\n",
       "        [0]],\n",
       "\n",
       "       [[0],\n",
       "        [0],\n",
       "        [0],\n",
       "        [0]]])"
      ]
     },
     "execution_count": 18,
     "metadata": {},
     "output_type": "execute_result"
    }
   ],
   "source": [
    "zz[:, :, 0:1]"
   ]
  },
  {
   "cell_type": "markdown",
   "id": "482df38b-e746-45ea-ad81-2b6815f0d4b8",
   "metadata": {},
   "source": [
    "Zero (depot) padded routes"
   ]
  },
  {
   "cell_type": "code",
   "execution_count": 19,
   "id": "be3d2ac1-f6c2-4c41-968f-a0e836149647",
   "metadata": {},
   "outputs": [
    {
     "data": {
      "text/plain": [
       "array([[[1, 2, 0, 0, 0],\n",
       "        [0, 0, 0, 0, 0],\n",
       "        [4, 3, 2, 1, 0],\n",
       "        [0, 0, 0, 0, 0]],\n",
       "\n",
       "       [[0, 0, 0, 0, 0],\n",
       "        [3, 4, 0, 0, 0],\n",
       "        [0, 0, 0, 0, 0],\n",
       "        [1, 2, 0, 0, 0]]])"
      ]
     },
     "execution_count": 19,
     "metadata": {},
     "output_type": "execute_result"
    }
   ],
   "source": [
    "a = np.concatenate((routes, zz), axis=2)\n",
    "a"
   ]
  },
  {
   "cell_type": "code",
   "execution_count": 20,
   "id": "e5ae57da-9f31-41d7-9c78-eea08128f4da",
   "metadata": {},
   "outputs": [
    {
     "data": {
      "text/plain": [
       "array([[[0, 1, 2, 0, 0],\n",
       "        [0, 0, 0, 0, 0],\n",
       "        [0, 4, 3, 2, 1],\n",
       "        [0, 0, 0, 0, 0]],\n",
       "\n",
       "       [[0, 0, 0, 0, 0],\n",
       "        [0, 3, 4, 0, 0],\n",
       "        [0, 0, 0, 0, 0],\n",
       "        [0, 1, 2, 0, 0]]])"
      ]
     },
     "execution_count": 20,
     "metadata": {},
     "output_type": "execute_result"
    }
   ],
   "source": [
    "b = np.concatenate((zz[:, :, 0:1], routes), axis=2)\n",
    "b"
   ]
  },
  {
   "cell_type": "code",
   "execution_count": 21,
   "id": "ba5fede5-0d32-41e7-a8ae-35e043153cb6",
   "metadata": {},
   "outputs": [
    {
     "data": {
      "text/plain": [
       "array([[0, 1, 2, 3, 4],\n",
       "       [1, 0, 5, 6, 4],\n",
       "       [2, 5, 0, 7, 4],\n",
       "       [3, 6, 7, 0, 4],\n",
       "       [4, 4, 4, 4, 0]])"
      ]
     },
     "execution_count": 21,
     "metadata": {},
     "output_type": "execute_result"
    }
   ],
   "source": [
    "distances = np.array([\n",
    "    [0,1,2,3,4],\n",
    "    [0,0,5,6,4],\n",
    "    [0,0,0,7,4],\n",
    "    [0,0,0,0,4],\n",
    "    [0,0,0,0,0]]\n",
    "            )\n",
    "distances = distances + distances.T\n",
    "distances"
   ]
  },
  {
   "cell_type": "code",
   "execution_count": 22,
   "id": "99d0584d-8d01-4351-87a6-e32c284afde9",
   "metadata": {},
   "outputs": [
    {
     "data": {
      "text/plain": [
       "array([[[1, 5, 2, 0, 0],\n",
       "        [0, 0, 0, 0, 0],\n",
       "        [4, 4, 7, 5, 1],\n",
       "        [0, 0, 0, 0, 0]],\n",
       "\n",
       "       [[0, 0, 0, 0, 0],\n",
       "        [3, 4, 4, 0, 0],\n",
       "        [0, 0, 0, 0, 0],\n",
       "        [1, 5, 2, 0, 0]]])"
      ]
     },
     "execution_count": 22,
     "metadata": {},
     "output_type": "execute_result"
    }
   ],
   "source": [
    "distances[a, b]"
   ]
  },
  {
   "cell_type": "markdown",
   "id": "68fdb10a-5eb5-4db4-b266-1bb6946878aa",
   "metadata": {},
   "source": [
    "Get total sailing distance for each vessel"
   ]
  },
  {
   "cell_type": "code",
   "execution_count": 23,
   "id": "ab1c4f0e-46d7-41f5-905f-a043d52351ae",
   "metadata": {},
   "outputs": [
    {
     "data": {
      "text/plain": [
       "array([29, 19])"
      ]
     },
     "execution_count": 23,
     "metadata": {},
     "output_type": "execute_result"
    }
   ],
   "source": [
    "total_sailing_distance = np.sum(distances[a,b], axis=(2,1))\n",
    "total_sailing_distance"
   ]
  },
  {
   "cell_type": "code",
   "execution_count": 35,
   "id": "d08c0df0-ae7d-4322-bc32-5d4993fcc11b",
   "metadata": {},
   "outputs": [],
   "source": [
    "                            weekly_charter_costs=np.array((100000.0,\n",
    "                                                           150000.0))\n",
    "                            sailing_costs=np.array((1000, 1200))"
   ]
  },
  {
   "cell_type": "code",
   "execution_count": 36,
   "id": "2bf60ef4-5f09-4d8a-a823-b91f7e6775d5",
   "metadata": {},
   "outputs": [
    {
     "data": {
      "text/plain": [
       "array([29, 19])"
      ]
     },
     "execution_count": 36,
     "metadata": {},
     "output_type": "execute_result"
    }
   ],
   "source": [
    "total_sailing_distance"
   ]
  },
  {
   "cell_type": "code",
   "execution_count": 37,
   "id": "f89cf6a4-9f84-4a58-9791-127d444e1be6",
   "metadata": {},
   "outputs": [
    {
     "data": {
      "text/plain": [
       "array([1000, 1200])"
      ]
     },
     "execution_count": 37,
     "metadata": {},
     "output_type": "execute_result"
    }
   ],
   "source": [
    "sailing_costs"
   ]
  },
  {
   "cell_type": "code",
   "execution_count": 38,
   "id": "50472d2f-9443-4a47-a8a8-940e00022d0b",
   "metadata": {},
   "outputs": [
    {
     "data": {
      "text/plain": [
       "51800"
      ]
     },
     "execution_count": 38,
     "metadata": {},
     "output_type": "execute_result"
    }
   ],
   "source": [
    "np.dot(total_sailing_distance, sailing_costs)"
   ]
  },
  {
   "cell_type": "code",
   "execution_count": 40,
   "id": "1bb3edc6-9192-4b1b-8133-e77faf99b28d",
   "metadata": {},
   "outputs": [
    {
     "data": {
      "text/plain": [
       "array([100000., 150000.])"
      ]
     },
     "execution_count": 40,
     "metadata": {},
     "output_type": "execute_result"
    }
   ],
   "source": [
    "weekly_charter_costs"
   ]
  },
  {
   "cell_type": "code",
   "execution_count": 43,
   "id": "5ca768ab-d295-42e5-abe7-74ffded0bab3",
   "metadata": {},
   "outputs": [
    {
     "data": {
      "text/plain": [
       "301800.0"
      ]
     },
     "execution_count": 43,
     "metadata": {},
     "output_type": "execute_result"
    }
   ],
   "source": [
    "np.sum(weekly_charter_costs) + np.dot(total_sailing_distance, sailing_costs)"
   ]
  },
  {
   "cell_type": "markdown",
   "id": "f9f1d82a-2653-40ee-bda7-c15fba5d3d34",
   "metadata": {},
   "source": [
    "### Succsess!"
   ]
  },
  {
   "cell_type": "markdown",
   "id": "d5a728b2-004b-42ea-94f1-beeeb5bebfcf",
   "metadata": {},
   "source": [
    "## Sum cost"
   ]
  },
  {
   "cell_type": "code",
   "execution_count": null,
   "id": "f0ac1d31-6ebf-47ae-ad55-915aa5db5f80",
   "metadata": {},
   "outputs": [],
   "source": [
    "np.dot(total_sailing_distance, np.array((1,0)))"
   ]
  }
 ],
 "metadata": {
  "kernelspec": {
   "display_name": "Python 3 (ipykernel)",
   "language": "python",
   "name": "python3"
  },
  "language_info": {
   "codemirror_mode": {
    "name": "ipython",
    "version": 3
   },
   "file_extension": ".py",
   "mimetype": "text/x-python",
   "name": "python",
   "nbconvert_exporter": "python",
   "pygments_lexer": "ipython3",
   "version": "3.10.6"
  }
 },
 "nbformat": 4,
 "nbformat_minor": 5
}
