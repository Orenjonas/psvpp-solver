{
 "cells": [
  {
   "cell_type": "code",
   "execution_count": 1,
   "id": "849582f2-51fc-4afd-b97b-447504d4d34f",
   "metadata": {},
   "outputs": [],
   "source": [
    "from tests.test_utils import test_generate_departures_from_visits"
   ]
  },
  {
   "cell_type": "code",
   "execution_count": 8,
   "id": "69c3f743-cca5-4f3c-9432-f1ee034086be",
   "metadata": {},
   "outputs": [
    {
     "name": "stdout",
     "output_type": "stream",
     "text": [
      "CPU times: user 9.8 s, sys: 11.6 ms, total: 9.81 s\n",
      "Wall time: 9.81 s\n"
     ]
    }
   ],
   "source": [
    "%%time\n",
    "test_generate_departures_from_visits()"
   ]
  },
  {
   "cell_type": "code",
   "execution_count": 3,
   "id": "6a980b9d-b7ee-4782-988c-752e0a022aab",
   "metadata": {},
   "outputs": [
    {
     "data": {
      "text/plain": [
       "array([1, 0, 1, 0])"
      ]
     },
     "execution_count": 3,
     "metadata": {},
     "output_type": "execute_result"
    }
   ],
   "source": [
    "import numpy as np\n",
    "np.array([[1, 0, 0, 0],\n",
    " [0, 0, 1, 0]]).any(axis=0)*1"
   ]
  },
  {
   "cell_type": "code",
   "execution_count": 5,
   "id": "b3c0e266-001e-4b82-8f48-44c1b2eeb4d5",
   "metadata": {},
   "outputs": [],
   "source": [
    "import numpy as np"
   ]
  },
  {
   "cell_type": "code",
   "execution_count": 6,
   "id": "c2903e04-c90a-4cc7-8101-429c8bda8328",
   "metadata": {},
   "outputs": [
    {
     "data": {
      "text/plain": [
       "array([2, 0, 0])"
      ]
     },
     "execution_count": 6,
     "metadata": {},
     "output_type": "execute_result"
    }
   ],
   "source": [
    "# n_installations=3\n",
    "# n_days_in_period=7\n",
    "# required_services=np.random.choice(range(n_days_in_period // 2),\n",
    "#                                                  size=n_installations,\n",
    "#                                                  replace=True)\n",
    "\n",
    "# required_services"
   ]
  },
  {
   "cell_type": "code",
   "execution_count": 7,
   "id": "4fff4c34-2f7a-4bc0-8e58-463853096fe6",
   "metadata": {},
   "outputs": [],
   "source": [
    "# list(range(1, 3))"
   ]
  }
 ],
 "metadata": {
  "kernelspec": {
   "display_name": "Python 3 (ipykernel)",
   "language": "python",
   "name": "python3"
  },
  "language_info": {
   "codemirror_mode": {
    "name": "ipython",
    "version": 3
   },
   "file_extension": ".py",
   "mimetype": "text/x-python",
   "name": "python",
   "nbconvert_exporter": "python",
   "pygments_lexer": "ipython3",
   "version": "3.10.6"
  }
 },
 "nbformat": 4,
 "nbformat_minor": 5
}
