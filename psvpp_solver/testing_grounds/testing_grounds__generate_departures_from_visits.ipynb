{
 "cells": [
  {
   "cell_type": "code",
   "execution_count": null,
   "id": "5ca7dd4b-591d-4510-86dd-46567e038ca9",
   "metadata": {},
   "outputs": [],
   "source": []
  },
  {
   "cell_type": "code",
   "execution_count": 1,
   "id": "978b43b4-b8ab-4e9c-9f0a-79861f311864",
   "metadata": {},
   "outputs": [
    {
     "name": "stdout",
     "output_type": "stream",
     "text": [
      "[[0 0 1 0 0 0 0]\n",
      " [0 0 1 0 0 1 0]\n",
      " [1 0 1 0 0 1 0]]\n",
      "CPU times: user 214 ms, sys: 143 ms, total: 357 ms\n",
      "Wall time: 147 ms\n"
     ]
    }
   ],
   "source": [
    "%%time\n",
    "\n",
    "import numpy as np\n",
    "\n",
    "from psvpp_solver.utils import generate_visits\n",
    "\n",
    "visits = generate_visits(n_installations = 3,\n",
    "                    n_days= 7,\n",
    "                    required_services=np.array([1, 2, 3], dtype=np.int8),\n",
    "                    )\n",
    "print(visits*1)"
   ]
  },
  {
   "cell_type": "code",
   "execution_count": 2,
   "id": "df5999eb-a20b-4219-9d69-71a91b499af6",
   "metadata": {},
   "outputs": [
    {
     "name": "stdout",
     "output_type": "stream",
     "text": [
      "departure days [1 0 1 0 0 1 0]\n",
      "initial departures\n",
      "[[0 0 0 0 0 1 0]\n",
      " [0 0 1 0 0 0 0]\n",
      " [1 0 0 0 0 0 0]]\n",
      "remaining_days [0 0 0 0 0 0 0]\n",
      "CPU times: user 2.2 ms, sys: 60 µs, total: 2.26 ms\n",
      "Wall time: 1.91 ms\n"
     ]
    },
    {
     "data": {
      "text/plain": [
       "array([[0, 0, 0, 0, 0, 1, 0],\n",
       "       [0, 0, 1, 0, 0, 0, 0],\n",
       "       [1, 0, 0, 0, 0, 0, 0]])"
      ]
     },
     "execution_count": 2,
     "metadata": {},
     "output_type": "execute_result"
    }
   ],
   "source": [
    "%%time\n",
    "# Test generate_departures_from_visits\n",
    "\n",
    "from psvpp_solver.utils import generate_departures_from_visits\n",
    "\n",
    "import numpy as np\n",
    "\n",
    "departures = generate_departures_from_visits(visits = visits,\n",
    "                                    n_vessels=3,\n",
    "                                    n_installations=3,\n",
    "                                    n_days_in_period=7)\n",
    "departures*1"
   ]
  },
  {
   "cell_type": "code",
   "execution_count": 3,
   "id": "5b8dc426-f123-4238-a489-4b14bf0b3100",
   "metadata": {},
   "outputs": [
    {
     "name": "stdout",
     "output_type": "stream",
     "text": [
      "[1 0 1 0 0 1 0]\n",
      "[1 0 1 0 0 1 0]\n",
      "True\n"
     ]
    }
   ],
   "source": [
    "print(departures.any(axis=0)*1)\n",
    "print(visits.any(axis=0)*1)\n",
    "\n",
    "\n"
   ]
  },
  {
   "cell_type": "code",
   "execution_count": 4,
   "id": "00cfa757-90cb-45ac-ae6e-7e57c4fccf58",
   "metadata": {},
   "outputs": [
    {
     "ename": "SyntaxError",
     "evalue": "incomplete input (1784273254.py, line 1)",
     "output_type": "error",
     "traceback": [
      "\u001b[0;36m  Cell \u001b[0;32mIn[4], line 1\u001b[0;36m\u001b[0m\n\u001b[0;31m    list(range(3)\u001b[0m\n\u001b[0m                 ^\u001b[0m\n\u001b[0;31mSyntaxError\u001b[0m\u001b[0;31m:\u001b[0m incomplete input\n"
     ]
    }
   ],
   "source": [
    "list(range(3)"
   ]
  },
  {
   "cell_type": "code",
   "execution_count": 47,
   "id": "9825af2d-b6e9-44b3-91f7-ec3704bb4fe8",
   "metadata": {},
   "outputs": [
    {
     "name": "stdout",
     "output_type": "stream",
     "text": [
      "[[0 0 0 0 1 0 0]\n",
      " [0 0 1 0 0 1 0]\n",
      " [1 0 1 0 1 0 0]]\n",
      "departure days [1 0 1 0 1 1 0]\n",
      "initial departures\n",
      "[[0 0 1 0 0 0 0]\n",
      " [0 0 0 0 0 1 0]\n",
      " [1 0 0 0 0 0 0]]\n",
      "remaining_days [0 0 0 0 1 0 0]\n",
      "[[0 0 1 0 1 0 0]\n",
      " [0 0 0 0 0 1 0]\n",
      " [1 0 0 0 0 0 0]]\n",
      "True\n"
     ]
    }
   ],
   "source": [
    "for i in range(100):\n",
    "    visits = generate_visits(n_installations = 3,\n",
    "                        n_days= 7,\n",
    "                        required_services=np.array([1, 2, 3], dtype=np.int8),\n",
    "                        )\n",
    "    print(visits*1)\n",
    "    departures = generate_departures_from_visits(visits = visits,\n",
    "                                        n_vessels=3,\n",
    "                                        n_installations=3,\n",
    "                                        n_days_in_period=7)\n",
    "    print(departures*1)\n",
    "    assert print(np.array_equal(departures.any(axis=0), visits.any(axis=0))), 'generate_departures_from_visits\n"
   ]
  }
 ],
 "metadata": {
  "kernelspec": {
   "display_name": "Python 3 (ipykernel)",
   "language": "python",
   "name": "python3"
  },
  "language_info": {
   "codemirror_mode": {
    "name": "ipython",
    "version": 3
   },
   "file_extension": ".py",
   "mimetype": "text/x-python",
   "name": "python",
   "nbconvert_exporter": "python",
   "pygments_lexer": "ipython3",
   "version": "3.10.6"
  }
 },
 "nbformat": 4,
 "nbformat_minor": 5
}
